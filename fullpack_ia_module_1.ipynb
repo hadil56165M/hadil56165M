{
  "nbformat": 4,
  "nbformat_minor": 0,
  "metadata": {
    "colab": {
      "provenance": [],
      "gpuType": "T4",
      "mount_file_id": "1YhJIf2VeRzEU1iV2vU3b3Qw45TpGBGVt",
      "authorship_tag": "ABX9TyOqd8pXUIRynfgJ0OSnwoL4",
      "include_colab_link": true
    },
    "kernelspec": {
      "name": "python3",
      "display_name": "Python 3"
    },
    "language_info": {
      "name": "python"
    },
    "accelerator": "GPU"
  },
  "cells": [
    {
      "cell_type": "markdown",
      "metadata": {
        "id": "view-in-github",
        "colab_type": "text"
      },
      "source": [
        "<a href=\"https://colab.research.google.com/github/hadil56165M/hadil56165M/blob/main/fullpack_ia_module_1.ipynb\" target=\"_parent\"><img src=\"https://colab.research.google.com/assets/colab-badge.svg\" alt=\"Open In Colab\"/></a>"
      ]
    },
    {
      "cell_type": "code",
      "source": [
        "from google.colab import drive\n",
        "drive.mount('/content/drive')\n"
      ],
      "metadata": {
        "id": "9UgQIUbWyikO",
        "colab": {
          "base_uri": "https://localhost:8080/"
        },
        "outputId": "2562b4b8-71c3-4064-a53f-36fb76c9d6eb"
      },
      "execution_count": null,
      "outputs": [
        {
          "output_type": "stream",
          "name": "stdout",
          "text": [
            "Drive already mounted at /content/drive; to attempt to forcibly remount, call drive.mount(\"/content/drive\", force_remount=True).\n"
          ]
        }
      ]
    },
    {
      "cell_type": "code",
      "source": [
        "import pandas as pd\n",
        "\n",
        "file_path = \"/content/drive/MyDrive/full pack ai /module 1: data analysis/waze_dataset (1).xlsx\"\n",
        "\n",
        "def load_data(file_path, sheet_name=0):\n",
        "    \"\"\"Charge le dataset depuis un fichier Excel et affiche les premières lignes.\"\"\"\n",
        "    df = pd.read_excel(file_path, sheet_name=sheet_name)\n",
        "    print(df.head())\n",
        "    return df\n",
        "\n",
        "df = load_data(file_path)\n"
      ],
      "metadata": {
        "colab": {
          "base_uri": "https://localhost:8080/"
        },
        "id": "mOODgakyy1QS",
        "outputId": "a4f8e5b2-eaaf-4d28-db9d-dee65102227f"
      },
      "execution_count": null,
      "outputs": [
        {
          "output_type": "stream",
          "name": "stdout",
          "text": [
            "    ID     label  sessions  drives  total_sessions  n_days_after_onboarding  \\\n",
            "0  0.0  retained     283.0   226.0      296.748273                   2276.0   \n",
            "1  1.0  retained     133.0   107.0      326.896596                   1225.0   \n",
            "2  2.0  retained     114.0    95.0      135.522926                   2651.0   \n",
            "3  3.0  retained      49.0    40.0       67.589221                     15.0   \n",
            "4  4.0  retained      84.0    68.0      168.247020                   1562.0   \n",
            "\n",
            "   total_navigations_fav1  total_navigations_fav2  driven_km_drives  \\\n",
            "0                   208.0                     0.0       2628.845068   \n",
            "1                    19.0                    64.0      13715.920550   \n",
            "2                     0.0                     0.0       3059.148818   \n",
            "3                   322.0                     7.0        913.591123   \n",
            "4                   166.0                     5.0       3950.202008   \n",
            "\n",
            "   duration_minutes_drives  activity_days  driving_days   device  \n",
            "0              1985.775061           28.0          19.0  Android  \n",
            "1              3160.472914           13.0          11.0   iPhone  \n",
            "2              1610.735904           14.0           8.0  Android  \n",
            "3               587.196542            7.0           3.0   iPhone  \n",
            "4              1219.555924           27.0          18.0  Android  \n"
          ]
        }
      ]
    },
    {
      "cell_type": "code",
      "source": [
        "# Identifier les valeurs manquantes par colonne\n",
        "print(df.isnull().sum())\n",
        "\n"
      ],
      "metadata": {
        "colab": {
          "base_uri": "https://localhost:8080/"
        },
        "id": "uDcRtSiUzK1_",
        "outputId": "68f3a105-5dc5-491d-a0b2-171a63a4b36b"
      },
      "execution_count": null,
      "outputs": [
        {
          "output_type": "stream",
          "name": "stdout",
          "text": [
            "ID                           2\n",
            "label                      703\n",
            "sessions                     2\n",
            "drives                       2\n",
            "total_sessions               2\n",
            "n_days_after_onboarding      3\n",
            "total_navigations_fav1       2\n",
            "total_navigations_fav2       2\n",
            "driven_km_drives             3\n",
            "duration_minutes_drives      4\n",
            "activity_days                3\n",
            "driving_days                 2\n",
            "device                       2\n",
            "dtype: int64\n"
          ]
        }
      ]
    },
    {
      "cell_type": "code",
      "source": [
        "def fill_missing_values(df):\n",
        " missing_values = df.isnull().sum()\n",
        " print(df_filled.describe())\n"
      ],
      "metadata": {
        "id": "WNljYObW0B4-"
      },
      "execution_count": null,
      "outputs": []
    },
    {
      "cell_type": "code",
      "source": [
        "from sklearn.preprocessing import LabelEncoder\n",
        "\n",
        "# Créez un objet LabelEncoder\n",
        "label_encoder = LabelEncoder()\n",
        "\n",
        "# Encodez les colonnes catégorielles\n",
        "\n",
        "df['device'] = label_encoder.fit_transform(df['device'])\n",
        "\n",
        "# Afficher les premières lignes après encodage\n",
        "print(df.head())\n",
        "\n"
      ],
      "metadata": {
        "colab": {
          "base_uri": "https://localhost:8080/"
        },
        "id": "g333c6Rp2yG1",
        "outputId": "069fbbb5-39f7-4a34-c1d8-8aeb1c6f3f39"
      },
      "execution_count": null,
      "outputs": [
        {
          "output_type": "stream",
          "name": "stdout",
          "text": [
            "    ID     label  sessions  drives  total_sessions  n_days_after_onboarding  \\\n",
            "0  0.0  retained     283.0   226.0      296.748273                   2276.0   \n",
            "1  1.0  retained     133.0   107.0      326.896596                   1225.0   \n",
            "2  2.0  retained     114.0    95.0      135.522926                   2651.0   \n",
            "3  3.0  retained      49.0    40.0       67.589221                     15.0   \n",
            "4  4.0  retained      84.0    68.0      168.247020                   1562.0   \n",
            "\n",
            "   total_navigations_fav1  total_navigations_fav2  driven_km_drives  \\\n",
            "0                   208.0                     0.0       2628.845068   \n",
            "1                    19.0                    64.0      13715.920550   \n",
            "2                     0.0                     0.0       3059.148818   \n",
            "3                   322.0                     7.0        913.591123   \n",
            "4                   166.0                     5.0       3950.202008   \n",
            "\n",
            "   duration_minutes_drives  activity_days  driving_days  device  \n",
            "0              1985.775061           28.0          19.0       0  \n",
            "1              3160.472914           13.0          11.0       1  \n",
            "2              1610.735904           14.0           8.0       0  \n",
            "3               587.196542            7.0           3.0       1  \n",
            "4              1219.555924           27.0          18.0       0  \n"
          ]
        }
      ]
    },
    {
      "cell_type": "code",
      "source": [
        "# Statistiques descriptives des variables numériques\n",
        "print(df.describe())\n"
      ],
      "metadata": {
        "colab": {
          "base_uri": "https://localhost:8080/"
        },
        "id": "DVIJdBFX3hcO",
        "outputId": "bae3d819-17bc-466e-ed2b-159e478e7788"
      },
      "execution_count": null,
      "outputs": [
        {
          "output_type": "stream",
          "name": "stdout",
          "text": [
            "                 ID      sessions        drives  total_sessions  \\\n",
            "count  14997.000000  14997.000000  14997.000000    14997.000000   \n",
            "mean    7499.965260     80.575048     67.229646      189.777020   \n",
            "std     4329.465339     80.653737     65.880067      136.216966   \n",
            "min        0.000000      0.000000      0.000000        0.220211   \n",
            "25%     3751.000000     23.000000     20.000000       90.747466   \n",
            "50%     7500.000000     56.000000     48.000000      159.260718   \n",
            "75%    11249.000000    111.000000     93.000000      253.868078   \n",
            "max    14998.000000    743.000000    596.000000     1216.154633   \n",
            "\n",
            "       n_days_after_onboarding  total_navigations_fav1  \\\n",
            "count             14996.000000            14997.000000   \n",
            "mean               1752.105828              121.436621   \n",
            "std                1008.483766              148.017462   \n",
            "min                   4.000000                0.000000   \n",
            "25%                 881.000000                9.000000   \n",
            "50%                1745.000000               70.000000   \n",
            "75%                2629.000000              177.000000   \n",
            "max                3500.000000             1236.000000   \n",
            "\n",
            "       total_navigations_fav2  driven_km_drives  duration_minutes_drives  \\\n",
            "count            14997.000000      14996.000000             14995.000000   \n",
            "mean                29.625725       4036.643232              1860.174857   \n",
            "std                 45.395732       2500.460464              1444.349409   \n",
            "min                  0.000000         60.441250                18.282082   \n",
            "25%                  0.000000       2216.394709               837.044279   \n",
            "50%                  9.000000       3488.862310              1479.747166   \n",
            "75%                 43.000000       5285.762766              2462.694994   \n",
            "max                415.000000      21183.401890             15851.727160   \n",
            "\n",
            "       activity_days  driving_days        device  \n",
            "count   14996.000000  14997.000000  14999.000000  \n",
            "mean       15.530275     12.177369      0.645843  \n",
            "std         8.998437      7.815722      0.478552  \n",
            "min         0.000000      0.000000      0.000000  \n",
            "25%         8.000000      5.000000      0.000000  \n",
            "50%        16.000000     12.000000      1.000000  \n",
            "75%        23.000000     19.000000      1.000000  \n",
            "max        31.000000     30.000000      2.000000  \n"
          ]
        }
      ]
    },
    {
      "cell_type": "code",
      "source": [
        "# Générer des histogrammes avec les bons noms de colonnes\n",
        "\n",
        "\n",
        "df['driving_days'].hist(bins=30, alpha=0.5, label='Driving Days')\n",
        "\n",
        "plt.legend()\n",
        "plt.show()\n"
      ],
      "metadata": {
        "colab": {
          "base_uri": "https://localhost:8080/",
          "height": 430
        },
        "id": "udekceSf3j14",
        "outputId": "1fa5148d-b521-4f90-dd7c-711a59dc5d40"
      },
      "execution_count": null,
      "outputs": [
        {
          "output_type": "display_data",
          "data": {
            "text/plain": [
              "<Figure size 640x480 with 1 Axes>"
            ],
            "image/png": "[encoded data removed]"
          },
          "metadata": {}
        }
      ]
    },
    {
      "cell_type": "code",
      "source": [
        "import pandas as pd\n",
        "\n",
        "# Charger le dataset\n",
        "df = pd.read_csv('/content/drive/MyDrive/full pack ai /waze_dataset (1).csv')\n",
        "\n",
        "# Afficher les noms des colonnes\n",
        "print(df.columns)\n"
      ],
      "metadata": {
        "colab": {
          "base_uri": "https://localhost:8080/"
        },
        "id": "EQWS3_YY7vZx",
        "outputId": "6527d524-3242-4f14-a821-99abfd833e90"
      },
      "execution_count": null,
      "outputs": [
        {
          "output_type": "stream",
          "name": "stdout",
          "text": [
            "Index(['ID;label;sessions;drives;total_sessions;n_days_after_onboarding;total_navigations_fav1;total_navigations_fav2;driven_km_drives;duration_minutes_drives;activity_days;driving_days;device'], dtype='object')\n"
          ]
        }
      ]
    },
    {
      "cell_type": "code",
      "source": [
        "import pandas as pd\n",
        "from sklearn.preprocessing import LabelEncoder\n",
        "\n",
        "# Charger le dataset avec le bon séparateur\n",
        "df = pd.read_csv('/content/drive/MyDrive/full pack ai /waze_dataset (1).csv', sep=';')\n",
        "\n",
        "# Afficher les premières lignes pour vérifier la lecture du fichier\n",
        "print(df.head())\n",
        "\n",
        "# Fonction pour calculer la matrice de corrélation\n",
        "def matrice(df):\n",
        "    # Encoder les colonnes catégorielles (assurez-vous d'utiliser les bons noms de colonnes)\n",
        "    df['label'] = LabelEncoder().fit_transform(df['label'])  # Remplacez 'status' par le bon nom\n",
        "    df['device'] = LabelEncoder().fit_transform(df['device'])\n",
        "\n",
        "    # Calculer la matrice de corrélation\n",
        "    corr_matrix = df.corr()\n",
        "\n",
        "    # Retourner la matrice de corrélation\n",
        "    return corr_matrix\n",
        "\n",
        "# Appeler la fonction pour obtenir la matrice de corrélation\n",
        "corr_matrix = matrice(df)\n",
        "\n",
        "# Afficher la matrice de corrélation\n",
        "print(corr_matrix)\n",
        "\n",
        "\n"
      ],
      "metadata": {
        "id": "xgF5L1Av6UbN",
        "colab": {
          "base_uri": "https://localhost:8080/"
        },
        "outputId": "0741cd7f-78d1-447e-ab27-8dd6a6212955"
      },
      "execution_count": null,
      "outputs": [
        {
          "output_type": "stream",
          "name": "stdout",
          "text": [
            "    ID     label  sessions  drives  total_sessions  n_days_after_onboarding  \\\n",
            "0  0.0  retained     283.0   226.0      296.748273                   2276.0   \n",
            "1  1.0  retained     133.0   107.0      326.896596                   1225.0   \n",
            "2  2.0  retained     114.0    95.0      135.522926                   2651.0   \n",
            "3  3.0  retained      49.0    40.0       67.589221                     15.0   \n",
            "4  4.0  retained      84.0    68.0      168.247020                   1562.0   \n",
            "\n",
            "   total_navigations_fav1  total_navigations_fav2  driven_km_drives  \\\n",
            "0                   208.0                     0.0       2628.845068   \n",
            "1                    19.0                    64.0      13715.920550   \n",
            "2                     0.0                     0.0       3059.148818   \n",
            "3                   322.0                     7.0        913.591123   \n",
            "4                   166.0                     5.0       3950.202008   \n",
            "\n",
            "   duration_minutes_drives  activity_days  driving_days   device  \n",
            "0              1985.775061           28.0          19.0  Android  \n",
            "1              3160.472914           13.0          11.0   iPhone  \n",
            "2              1610.735904           14.0           8.0  Android  \n",
            "3               587.196542            7.0           3.0   iPhone  \n",
            "4              1219.555924           27.0          18.0  Android  \n",
            "                               ID     label  sessions    drives  \\\n",
            "ID                       1.000000 -0.007730  0.012508  0.011830   \n",
            "label                   -0.007730  1.000000 -0.030822 -0.030602   \n",
            "sessions                 0.012508 -0.030822  1.000000  0.996821   \n",
            "drives                   0.011830 -0.030602  0.996821  1.000000   \n",
            "total_sessions           0.005292 -0.012731  0.589110  0.586814   \n",
            "n_days_after_onboarding -0.009564  0.100973  0.005772  0.005281   \n",
            "total_navigations_fav1   0.001370 -0.047376  0.006453  0.005818   \n",
            "total_navigations_fav2   0.001012 -0.014587  0.006280  0.007703   \n",
            "driven_km_drives        -0.001697 -0.021147  0.002620  0.002408   \n",
            "duration_minutes_drives -0.000639 -0.035201 -0.005868 -0.005606   \n",
            "activity_days           -0.000579  0.244644  0.024459  0.024289   \n",
            "driving_days            -0.001258  0.238419  0.018718  0.018546   \n",
            "device                  -0.014242 -0.002923  0.011930  0.011227   \n",
            "\n",
            "                         total_sessions  n_days_after_onboarding  \\\n",
            "ID                             0.005292                -0.009564   \n",
            "label                         -0.012731                 0.100973   \n",
            "sessions                       0.589110                 0.005772   \n",
            "drives                         0.586814                 0.005281   \n",
            "total_sessions                 1.000000                 0.004258   \n",
            "n_days_after_onboarding        0.004258                 1.000000   \n",
            "total_navigations_fav1         0.003076                -0.001105   \n",
            "total_navigations_fav2         0.007148                -0.009220   \n",
            "driven_km_drives              -0.000126                -0.004647   \n",
            "duration_minutes_drives       -0.002027                -0.010034   \n",
            "activity_days                  0.013910                -0.009879   \n",
            "driving_days                   0.009741                -0.007704   \n",
            "device                         0.010646                -0.010621   \n",
            "\n",
            "                         total_navigations_fav1  total_navigations_fav2  \\\n",
            "ID                                     0.001370                0.001012   \n",
            "label                                 -0.047376               -0.014587   \n",
            "sessions                               0.006453                0.006280   \n",
            "drives                                 0.005818                0.007703   \n",
            "total_sessions                         0.003076                0.007148   \n",
            "n_days_after_onboarding               -0.001105               -0.009220   \n",
            "total_navigations_fav1                 1.000000                0.002681   \n",
            "total_navigations_fav2                 0.002681                1.000000   \n",
            "driven_km_drives                      -0.006730                0.000981   \n",
            "duration_minutes_drives                0.003040               -0.003720   \n",
            "activity_days                          0.011307               -0.003902   \n",
            "driving_days                           0.010552                0.001646   \n",
            "device                                 0.001673               -0.000672   \n",
            "\n",
            "                         driven_km_drives  duration_minutes_drives  \\\n",
            "ID                              -0.001697                -0.000639   \n",
            "label                           -0.021147                -0.035201   \n",
            "sessions                         0.002620                -0.005868   \n",
            "drives                           0.002408                -0.005606   \n",
            "total_sessions                  -0.000126                -0.002027   \n",
            "n_days_after_onboarding         -0.004647                -0.010034   \n",
            "total_navigations_fav1          -0.006730                 0.003040   \n",
            "total_navigations_fav2           0.000981                -0.003720   \n",
            "driven_km_drives                 1.000000                 0.697329   \n",
            "duration_minutes_drives          0.697329                 1.000000   \n",
            "activity_days                   -0.002044                -0.002628   \n",
            "driving_days                    -0.005250                -0.004944   \n",
            "device                          -0.001132                -0.003516   \n",
            "\n",
            "                         activity_days  driving_days    device  \n",
            "ID                           -0.000579     -0.001258 -0.014242  \n",
            "label                         0.244644      0.238419 -0.002923  \n",
            "sessions                      0.024459      0.018718  0.011930  \n",
            "drives                        0.024289      0.018546  0.011227  \n",
            "total_sessions                0.013910      0.009741  0.010646  \n",
            "n_days_after_onboarding      -0.009879     -0.007704 -0.010621  \n",
            "total_navigations_fav1        0.011307      0.010552  0.001673  \n",
            "total_navigations_fav2       -0.003902      0.001646 -0.000672  \n",
            "driven_km_drives             -0.002044     -0.005250 -0.001132  \n",
            "duration_minutes_drives      -0.002628     -0.004944 -0.003516  \n",
            "activity_days                 1.000000      0.947594 -0.010398  \n",
            "driving_days                  0.947594      1.000000 -0.004307  \n",
            "device                       -0.010398     -0.004307  1.000000  \n"
          ]
        }
      ]
    },
    {
      "cell_type": "code",
      "source": [
        "import pandas as pd\n",
        "from sklearn.preprocessing import LabelEncoder\n",
        "\n",
        "# Charger le dataset avec le bon séparateur\n",
        "df = pd.read_csv('/content/drive/MyDrive/full pack ai /waze_dataset (1).csv', sep=';')\n",
        "\n",
        "# 1. Création de la variable km_per_driving_day\n",
        "df['driven_km_drives'] = df['total_sessions'] / df['driving_days']\n",
        "\n",
        "# Remplacer les valeurs infinies par 0 (division par zéro)\n",
        "df['driven_km_drives'].replace([float('inf'), -float('inf')], 0, inplace=True)\n",
        "\n",
        "# Afficher les statistiques descriptives de km_per_driving_day\n",
        "print(\"Statistiques descriptives de 'km_per_driving_day':\")\n",
        "print(df['driven_km_drives'].describe())\n",
        "\n",
        "# 2. Création de la variable professional_driver\n",
        "df['driven_km_drives'] = ((df['total_sessions'] >= 60) & (df['driving_days'] >= 15)).astype(int)\n",
        "\n",
        "# Afficher la répartition des conducteurs professionnels\n",
        "print(\"\\nRépartition des conducteurs professionnels:\")\n",
        "print(df['driven_km_drives'].value_counts())\n",
        "\n",
        "# Calcul du churn rate pour les professionnels et non-professionnels\n",
        "# On suppose que la colonne 'sessions' est déjà présente (1 pour 'sessions', 0 pour 'churned')\n",
        "churn_rate_professionals = df[df['driven_km_drives'] == 1]['sessions'].mean()\n",
        "churn_rate_non_professionals = df[df['driven_km_drives'] == 0]['sessions'].mean()\n",
        "\n",
        "print(f\"\\nChurn rate pour les conducteurs professionnels: {churn_rate_professionals:.2f}\")\n",
        "print(f\"Churn rate pour les non-professionnels: {churn_rate_non_professionals:.2f}\")\n"
      ],
      "metadata": {
        "colab": {
          "base_uri": "https://localhost:8080/"
        },
        "id": "zfs8csk99DLD",
        "outputId": "29d972d8-e861-418b-e9cb-2b57dc287ff0"
      },
      "execution_count": null,
      "outputs": [
        {
          "output_type": "stream",
          "name": "stdout",
          "text": [
            "Statistiques descriptives de 'km_per_driving_day':\n",
            "count    14997.000000\n",
            "mean        26.607833\n",
            "std         48.004235\n",
            "min          0.000000\n",
            "25%          5.686570\n",
            "50%         12.083912\n",
            "75%         26.358848\n",
            "max        868.921915\n",
            "Name: driven_km_drives, dtype: float64\n",
            "\n",
            "Répartition des conducteurs professionnels:\n",
            "driven_km_drives\n",
            "0    9694\n",
            "1    5305\n",
            "Name: count, dtype: int64\n",
            "\n",
            "Churn rate pour les conducteurs professionnels: 91.30\n",
            "Churn rate pour les non-professionnels: 74.70\n"
          ]
        },
        {
          "output_type": "stream",
          "name": "stderr",
          "text": [
            "<ipython-input-115-bab576c2fd09>:11: FutureWarning: A value is trying to be set on a copy of a DataFrame or Series through chained assignment using an inplace method.\n",
            "The behavior will change in pandas 3.0. This inplace method will never work because the intermediate object on which we are setting values always behaves as a copy.\n",
            "\n",
            "For example, when doing 'df[col].method(value, inplace=True)', try using 'df.method({col: value}, inplace=True)' or df[col] = df[col].method(value) instead, to perform the operation inplace on the original object.\n",
            "\n",
            "\n",
            "  df['driven_km_drives'].replace([float('inf'), -float('inf')], 0, inplace=True)\n"
          ]
        }
      ]
    },
    {
      "cell_type": "code",
      "source": [
        "import pandas as pd\n",
        "\n",
        "# Charger le dataset avec le bon séparateur\n",
        "df = pd.read_csv('/content/drive/MyDrive/full pack ai /waze_dataset (1).csv', sep=';')\n",
        "\n",
        "# Vérification des colonnes et des premières lignes pour s'assurer que les noms des colonnes sont corrects\n",
        "print(df.columns)\n",
        "print(df.head())\n",
        "\n",
        "# 1. Encodage de la variable churned (supposons que la colonne s'appelle 'status')\n",
        "df['label2'] = df['retrained'].apply(lambda x: 1 if x == 'churned' else 0)\n",
        "\n",
        "# Vérification de la répartition de 'label2' (0 pour retained, 1 pour churned)\n",
        "print(\"\\nRépartition de la variable 'label2' :\")\n",
        "print(df['label2'].value_counts())\n",
        "\n",
        "# 2. Encodage de la variable 'device' (Android = 0, iPhone = 1)\n",
        "df['device2'] = df['device'].apply(lambda x: 1 if x == 'iPhone' else 0)\n",
        "\n",
        "# Vérification de la répartition de 'device2' (0 pour Android, 1 pour iPhone)\n",
        "print(\"\\nRépartition de la variable 'device2' :\")\n",
        "print(df['device2'].value_counts())\n",
        "\n",
        "# 3. Vérification de la multicolinéarité\n",
        "# Assurez-vous que seules les colonnes numériques sont incluses dans le calcul de la corrélation\n",
        "# Si certaines colonnes comme 'status' ou 'device' existent, ignorez-les\n",
        "\n",
        "# Sélectionner les colonnes numériques\n",
        "numeric_columns = df.select_dtypes(include=['float64', 'int64']).columns\n",
        "\n",
        "# Calcul de la matrice de corrélation entre les variables numériques\n",
        "corr_matrix = df[numeric_columns].corr()\n",
        "\n",
        "# Affichage de la matrice de corrélation\n",
        "print(\"\\nMatrice de corrélation entre les variables numériques :\")\n",
        "print(corr_matrix)\n",
        "\n",
        "# Identifier les paires de variables ayant une corrélation > 0.7\n",
        "high_corr = corr_matrix[(corr_matrix > 0.7) & (corr_matrix != 1.0)]  # Ignorer la diagonale où la corrélation est 1\n",
        "print(\"\\nPaires de variables ayant une corrélation > 0.7 :\")\n",
        "print(high_corr)\n",
        "\n"
      ],
      "metadata": {
        "colab": {
          "base_uri": "https://localhost:8080/",
          "height": 981
        },
        "id": "i3nzcwZn-9FP",
        "outputId": "de31d071-2ad0-4a11-e2c7-d71a479799b6"
      },
      "execution_count": null,
      "outputs": [
        {
          "output_type": "stream",
          "name": "stdout",
          "text": [
            "Index(['ID', 'label', 'sessions', 'drives', 'total_sessions',\n",
            "       'n_days_after_onboarding', 'total_navigations_fav1',\n",
            "       'total_navigations_fav2', 'driven_km_drives', 'duration_minutes_drives',\n",
            "       'activity_days', 'driving_days', 'device'],\n",
            "      dtype='object')\n",
            "    ID     label  sessions  drives  total_sessions  n_days_after_onboarding  \\\n",
            "0  0.0  retained     283.0   226.0      296.748273                   2276.0   \n",
            "1  1.0  retained     133.0   107.0      326.896596                   1225.0   \n",
            "2  2.0  retained     114.0    95.0      135.522926                   2651.0   \n",
            "3  3.0  retained      49.0    40.0       67.589221                     15.0   \n",
            "4  4.0  retained      84.0    68.0      168.247020                   1562.0   \n",
            "\n",
            "   total_navigations_fav1  total_navigations_fav2  driven_km_drives  \\\n",
            "0                   208.0                     0.0       2628.845068   \n",
            "1                    19.0                    64.0      13715.920550   \n",
            "2                     0.0                     0.0       3059.148818   \n",
            "3                   322.0                     7.0        913.591123   \n",
            "4                   166.0                     5.0       3950.202008   \n",
            "\n",
            "   duration_minutes_drives  activity_days  driving_days   device  \n",
            "0              1985.775061           28.0          19.0  Android  \n",
            "1              3160.472914           13.0          11.0   iPhone  \n",
            "2              1610.735904           14.0           8.0  Android  \n",
            "3               587.196542            7.0           3.0   iPhone  \n",
            "4              1219.555924           27.0          18.0  Android  \n"
          ]
        },
        {
          "output_type": "error",
          "ename": "KeyError",
          "evalue": "'retrained'",
          "traceback": [
            "\u001b[0;31m---------------------------------------------------------------------------\u001b[0m",
            "\u001b[0;31mKeyError\u001b[0m                                  Traceback (most recent call last)",
            "\u001b[0;32m/usr/local/lib/python3.11/dist-packages/pandas/core/indexes/base.py\u001b[0m in \u001b[0;36mget_loc\u001b[0;34m(self, key)\u001b[0m\n\u001b[1;32m   3804\u001b[0m         \u001b[0;32mtry\u001b[0m\u001b[0;34m:\u001b[0m\u001b[0;34m\u001b[0m\u001b[0;34m\u001b[0m\u001b[0m\n\u001b[0;32m-> 3805\u001b[0;31m             \u001b[0;32mreturn\u001b[0m \u001b[0mself\u001b[0m\u001b[0;34m.\u001b[0m\u001b[0m_engine\u001b[0m\u001b[0;34m.\u001b[0m\u001b[0mget_loc\u001b[0m\u001b[0;34m(\u001b[0m\u001b[0mcasted_key\u001b[0m\u001b[0;34m)\u001b[0m\u001b[0;34m\u001b[0m\u001b[0;34m\u001b[0m\u001b[0m\n\u001b[0m\u001b[1;32m   3806\u001b[0m         \u001b[0;32mexcept\u001b[0m \u001b[0mKeyError\u001b[0m \u001b[0;32mas\u001b[0m \u001b[0merr\u001b[0m\u001b[0;34m:\u001b[0m\u001b[0;34m\u001b[0m\u001b[0;34m\u001b[0m\u001b[0m\n",
            "\u001b[0;32mindex.pyx\u001b[0m in \u001b[0;36mpandas._libs.index.IndexEngine.get_loc\u001b[0;34m()\u001b[0m\n",
            "\u001b[0;32mindex.pyx\u001b[0m in \u001b[0;36mpandas._libs.index.IndexEngine.get_loc\u001b[0;34m()\u001b[0m\n",
            "\u001b[0;32mpandas/_libs/hashtable_class_helper.pxi\u001b[0m in \u001b[0;36mpandas._libs.hashtable.PyObjectHashTable.get_item\u001b[0;34m()\u001b[0m\n",
            "\u001b[0;32mpandas/_libs/hashtable_class_helper.pxi\u001b[0m in \u001b[0;36mpandas._libs.hashtable.PyObjectHashTable.get_item\u001b[0;34m()\u001b[0m\n",
            "\u001b[0;31mKeyError\u001b[0m: 'retrained'",
            "\nThe above exception was the direct cause of the following exception:\n",
            "\u001b[0;31mKeyError\u001b[0m                                  Traceback (most recent call last)",
            "\u001b[0;32m<ipython-input-129-ead1010cd1b1>\u001b[0m in \u001b[0;36m<cell line: 0>\u001b[0;34m()\u001b[0m\n\u001b[1;32m      9\u001b[0m \u001b[0;34m\u001b[0m\u001b[0m\n\u001b[1;32m     10\u001b[0m \u001b[0;31m# 1. Encodage de la variable churned (supposons que la colonne s'appelle 'status')\u001b[0m\u001b[0;34m\u001b[0m\u001b[0;34m\u001b[0m\u001b[0m\n\u001b[0;32m---> 11\u001b[0;31m \u001b[0mdf\u001b[0m\u001b[0;34m[\u001b[0m\u001b[0;34m'label2'\u001b[0m\u001b[0;34m]\u001b[0m \u001b[0;34m=\u001b[0m \u001b[0mdf\u001b[0m\u001b[0;34m[\u001b[0m\u001b[0;34m'retrained'\u001b[0m\u001b[0;34m]\u001b[0m\u001b[0;34m.\u001b[0m\u001b[0mapply\u001b[0m\u001b[0;34m(\u001b[0m\u001b[0;32mlambda\u001b[0m \u001b[0mx\u001b[0m\u001b[0;34m:\u001b[0m \u001b[0;36m1\u001b[0m \u001b[0;32mif\u001b[0m \u001b[0mx\u001b[0m \u001b[0;34m==\u001b[0m \u001b[0;34m'churned'\u001b[0m \u001b[0;32melse\u001b[0m \u001b[0;36m0\u001b[0m\u001b[0;34m)\u001b[0m\u001b[0;34m\u001b[0m\u001b[0;34m\u001b[0m\u001b[0m\n\u001b[0m\u001b[1;32m     12\u001b[0m \u001b[0;34m\u001b[0m\u001b[0m\n\u001b[1;32m     13\u001b[0m \u001b[0;31m# Vérification de la répartition de 'label2' (0 pour retained, 1 pour churned)\u001b[0m\u001b[0;34m\u001b[0m\u001b[0;34m\u001b[0m\u001b[0m\n",
            "\u001b[0;32m/usr/local/lib/python3.11/dist-packages/pandas/core/frame.py\u001b[0m in \u001b[0;36m__getitem__\u001b[0;34m(self, key)\u001b[0m\n\u001b[1;32m   4100\u001b[0m             \u001b[0;32mif\u001b[0m \u001b[0mself\u001b[0m\u001b[0;34m.\u001b[0m\u001b[0mcolumns\u001b[0m\u001b[0;34m.\u001b[0m\u001b[0mnlevels\u001b[0m \u001b[0;34m>\u001b[0m \u001b[0;36m1\u001b[0m\u001b[0;34m:\u001b[0m\u001b[0;34m\u001b[0m\u001b[0;34m\u001b[0m\u001b[0m\n\u001b[1;32m   4101\u001b[0m                 \u001b[0;32mreturn\u001b[0m \u001b[0mself\u001b[0m\u001b[0;34m.\u001b[0m\u001b[0m_getitem_multilevel\u001b[0m\u001b[0;34m(\u001b[0m\u001b[0mkey\u001b[0m\u001b[0;34m)\u001b[0m\u001b[0;34m\u001b[0m\u001b[0;34m\u001b[0m\u001b[0m\n\u001b[0;32m-> 4102\u001b[0;31m             \u001b[0mindexer\u001b[0m \u001b[0;34m=\u001b[0m \u001b[0mself\u001b[0m\u001b[0;34m.\u001b[0m\u001b[0mcolumns\u001b[0m\u001b[0;34m.\u001b[0m\u001b[0mget_loc\u001b[0m\u001b[0;34m(\u001b[0m\u001b[0mkey\u001b[0m\u001b[0;34m)\u001b[0m\u001b[0;34m\u001b[0m\u001b[0;34m\u001b[0m\u001b[0m\n\u001b[0m\u001b[1;32m   4103\u001b[0m             \u001b[0;32mif\u001b[0m \u001b[0mis_integer\u001b[0m\u001b[0;34m(\u001b[0m\u001b[0mindexer\u001b[0m\u001b[0;34m)\u001b[0m\u001b[0;34m:\u001b[0m\u001b[0;34m\u001b[0m\u001b[0;34m\u001b[0m\u001b[0m\n\u001b[1;32m   4104\u001b[0m                 \u001b[0mindexer\u001b[0m \u001b[0;34m=\u001b[0m \u001b[0;34m[\u001b[0m\u001b[0mindexer\u001b[0m\u001b[0;34m]\u001b[0m\u001b[0;34m\u001b[0m\u001b[0;34m\u001b[0m\u001b[0m\n",
            "\u001b[0;32m/usr/local/lib/python3.11/dist-packages/pandas/core/indexes/base.py\u001b[0m in \u001b[0;36mget_loc\u001b[0;34m(self, key)\u001b[0m\n\u001b[1;32m   3810\u001b[0m             ):\n\u001b[1;32m   3811\u001b[0m                 \u001b[0;32mraise\u001b[0m \u001b[0mInvalidIndexError\u001b[0m\u001b[0;34m(\u001b[0m\u001b[0mkey\u001b[0m\u001b[0;34m)\u001b[0m\u001b[0;34m\u001b[0m\u001b[0;34m\u001b[0m\u001b[0m\n\u001b[0;32m-> 3812\u001b[0;31m             \u001b[0;32mraise\u001b[0m \u001b[0mKeyError\u001b[0m\u001b[0;34m(\u001b[0m\u001b[0mkey\u001b[0m\u001b[0;34m)\u001b[0m \u001b[0;32mfrom\u001b[0m \u001b[0merr\u001b[0m\u001b[0;34m\u001b[0m\u001b[0;34m\u001b[0m\u001b[0m\n\u001b[0m\u001b[1;32m   3813\u001b[0m         \u001b[0;32mexcept\u001b[0m \u001b[0mTypeError\u001b[0m\u001b[0;34m:\u001b[0m\u001b[0;34m\u001b[0m\u001b[0;34m\u001b[0m\u001b[0m\n\u001b[1;32m   3814\u001b[0m             \u001b[0;31m# If we have a listlike key, _check_indexing_error will raise\u001b[0m\u001b[0;34m\u001b[0m\u001b[0;34m\u001b[0m\u001b[0m\n",
            "\u001b[0;31mKeyError\u001b[0m: 'retrained'"
          ]
        }
      ]
    },
    {
      "cell_type": "code",
      "source": [
        "import pandas as pd\n",
        "import matplotlib.pyplot as plt\n",
        "\n",
        "# 1. Charger le dataset et afficher les premières lignes\n",
        "df = pd.read_csv('/content/drive/MyDrive/full pack ai /module 1: data analysis/daily-minimum-temperatures-in-me (2).csv')\n",
        "\n",
        "# Afficher les premières lignes pour vérifier les données\n",
        "print(df.head())\n",
        "\n",
        "# 2. Vérifier le type des données et convertir 'Date' en format datetime si nécessaire\n",
        "# Ici, on laisse pandas deviner le format, avec 'dayfirst=True' si les dates sont au format 'jour/mois/année'\n",
        "df['Date'] = pd.to_Date(df['Date'], Date=True)\n",
        "\n",
        "# Vérification du type de données\n",
        "print(\"\\nTypes de données après conversion :\")\n",
        "print(df.dtypes)\n",
        "\n",
        "# 3. Vérifier la présence de valeurs manquantes et les traiter si nécessaire\n",
        "print(\"\\nVérification des valeurs manquantes :\")\n",
        "print(df.isnull().sum())\n",
        "\n",
        "# Si des valeurs manquantes sont présentes, vous pouvez les remplir par la moyenne ou la médiane\n",
        "df['Temp'].fillna(df['Temp'].median(), inplace=True)\n",
        "\n",
        "# Vérifier que les valeurs manquantes ont été traitées\n",
        "print(\"\\nAprès traitement des valeurs manquantes :\")\n",
        "print(df.isnull().sum())\n",
        "\n",
        "# 4. Afficher des statistiques descriptives sur la température (min, max, moyenne, médiane)\n",
        "print(\"\\nStatistiques descriptives sur la température :\")\n",
        "print(df['Temp'].describe())\n",
        "\n",
        "# 5. Tracer l’évolution de la température sur toute la période couverte par les données\n",
        "plt.figure(figsize=(10,6))\n",
        "plt.plot(df['Date'], df['Temp'], label='Température Minimale', color='tab:blue')\n",
        "plt.title('Évolution de la Température Minimale Journalière')\n",
        "plt.xlabel('Date')\n",
        "plt.ylabel('Température Minimale (°C)')\n",
        "plt.grid(True)\n",
        "plt.xticks(rotation=45)\n",
        "plt.tight_layout()\n",
        "plt.legend()\n",
        "plt.show()\n",
        "\n"
      ],
      "metadata": {
        "colab": {
          "base_uri": "https://localhost:8080/",
          "height": 315
        },
        "id": "xgV7jic_ETJ8",
        "outputId": "54b73a6f-6092-4b32-b3fa-0b612e1533ff"
      },
      "execution_count": null,
      "outputs": [
        {
          "output_type": "stream",
          "name": "stdout",
          "text": [
            "       Date Daily minimum temperatures\n",
            "0  1/1/1981                       20.7\n",
            "1  1/2/1981                       17.9\n",
            "2  1/3/1981                       18.8\n",
            "3  1/4/1981                       14.6\n",
            "4  1/5/1981                       15.8\n"
          ]
        },
        {
          "output_type": "error",
          "ename": "AttributeError",
          "evalue": "module 'pandas' has no attribute 'to_Date'",
          "traceback": [
            "\u001b[0;31m---------------------------------------------------------------------------\u001b[0m",
            "\u001b[0;31mAttributeError\u001b[0m                            Traceback (most recent call last)",
            "\u001b[0;32m<ipython-input-8-280689cf209f>\u001b[0m in \u001b[0;36m<cell line: 0>\u001b[0;34m()\u001b[0m\n\u001b[1;32m     10\u001b[0m \u001b[0;31m# 2. Vérifier le type des données et convertir 'Date' en format datetime si nécessaire\u001b[0m\u001b[0;34m\u001b[0m\u001b[0;34m\u001b[0m\u001b[0m\n\u001b[1;32m     11\u001b[0m \u001b[0;31m# Ici, on laisse pandas deviner le format, avec 'dayfirst=True' si les dates sont au format 'jour/mois/année'\u001b[0m\u001b[0;34m\u001b[0m\u001b[0;34m\u001b[0m\u001b[0m\n\u001b[0;32m---> 12\u001b[0;31m \u001b[0mdf\u001b[0m\u001b[0;34m[\u001b[0m\u001b[0;34m'Date'\u001b[0m\u001b[0;34m]\u001b[0m \u001b[0;34m=\u001b[0m \u001b[0mpd\u001b[0m\u001b[0;34m.\u001b[0m\u001b[0mto_Date\u001b[0m\u001b[0;34m(\u001b[0m\u001b[0mdf\u001b[0m\u001b[0;34m[\u001b[0m\u001b[0;34m'Date'\u001b[0m\u001b[0;34m]\u001b[0m\u001b[0;34m,\u001b[0m \u001b[0mDate\u001b[0m\u001b[0;34m=\u001b[0m\u001b[0;32mTrue\u001b[0m\u001b[0;34m)\u001b[0m\u001b[0;34m\u001b[0m\u001b[0;34m\u001b[0m\u001b[0m\n\u001b[0m\u001b[1;32m     13\u001b[0m \u001b[0;34m\u001b[0m\u001b[0m\n\u001b[1;32m     14\u001b[0m \u001b[0;31m# Vérification du type de données\u001b[0m\u001b[0;34m\u001b[0m\u001b[0;34m\u001b[0m\u001b[0m\n",
            "\u001b[0;31mAttributeError\u001b[0m: module 'pandas' has no attribute 'to_Date'"
          ]
        }
      ]
    },
    {
      "cell_type": "code",
      "source": [
        "import pandas as pd\n",
        "\n",
        "# Charger le dataset\n",
        "df = pd.read_csv('/content/drive/MyDrive/full pack ai /module 1: data analysis/daily-minimum-temperatures-in-me (2).csv')\n",
        "\n",
        "# Vérifier les noms des colonnes pour s'assurer qu'il n'y a pas d'espaces indésirables\n",
        "print(\"Colonnes du dataset :\")\n",
        "print(df.columns)\n",
        "\n",
        "# Enlever les espaces avant et après les noms des colonnes\n",
        "df.columns = df.columns.str.strip()\n",
        "\n",
        "# Vérifier le type des données et convertir 'Date' en format datetime si nécessaire\n",
        "df['Date'] = pd.to_datetime(df['Date'], errors='coerce', dayfirst=True)\n",
        "df.set_index('Date', inplace=True)\n",
        "\n",
        "# Vérifier la présence de valeurs manquantes et les traiter si nécessaire\n",
        "df['Daily minimum temperatures'].fillna(df['Daily minimum temperatures'].median(), inplace=True)\n",
        "\n",
        "# Afficher les premières lignes pour confirmer que tout est correct\n",
        "print(df.head())\n",
        "\n"
      ],
      "metadata": {
        "colab": {
          "base_uri": "https://localhost:8080/",
          "height": 391
        },
        "id": "6DDrlTzjH8wZ",
        "outputId": "71b7c0b1-c44e-4cb6-9773-68a149753483"
      },
      "execution_count": null,
      "outputs": [
        {
          "output_type": "stream",
          "name": "stdout",
          "text": [
            "Colonnes du dataset :\n",
            "Index(['Date', 'Daily minimum temperatures'], dtype='object')\n"
          ]
        },
        {
          "output_type": "error",
          "ename": "TypeError",
          "evalue": "Cannot convert ['20.7' '17.9' '18.8' ... '13.5' '15.7' '13'] to numeric",
          "traceback": [
            "\u001b[0;31m---------------------------------------------------------------------------\u001b[0m",
            "\u001b[0;31mTypeError\u001b[0m                                 Traceback (most recent call last)",
            "\u001b[0;32m<ipython-input-17-28a1cb1aa0b5>\u001b[0m in \u001b[0;36m<cell line: 0>\u001b[0;34m()\u001b[0m\n\u001b[1;32m     16\u001b[0m \u001b[0;34m\u001b[0m\u001b[0m\n\u001b[1;32m     17\u001b[0m \u001b[0;31m# Vérifier la présence de valeurs manquantes et les traiter si nécessaire\u001b[0m\u001b[0;34m\u001b[0m\u001b[0;34m\u001b[0m\u001b[0m\n\u001b[0;32m---> 18\u001b[0;31m \u001b[0mdf\u001b[0m\u001b[0;34m[\u001b[0m\u001b[0;34m'Daily minimum temperatures'\u001b[0m\u001b[0;34m]\u001b[0m\u001b[0;34m.\u001b[0m\u001b[0mfillna\u001b[0m\u001b[0;34m(\u001b[0m\u001b[0mdf\u001b[0m\u001b[0;34m[\u001b[0m\u001b[0;34m'Daily minimum temperatures'\u001b[0m\u001b[0;34m]\u001b[0m\u001b[0;34m.\u001b[0m\u001b[0mmedian\u001b[0m\u001b[0;34m(\u001b[0m\u001b[0;34m)\u001b[0m\u001b[0;34m,\u001b[0m \u001b[0minplace\u001b[0m\u001b[0;34m=\u001b[0m\u001b[0;32mTrue\u001b[0m\u001b[0;34m)\u001b[0m\u001b[0;34m\u001b[0m\u001b[0;34m\u001b[0m\u001b[0m\n\u001b[0m\u001b[1;32m     19\u001b[0m \u001b[0;34m\u001b[0m\u001b[0m\n\u001b[1;32m     20\u001b[0m \u001b[0;31m# Afficher les premières lignes pour confirmer que tout est correct\u001b[0m\u001b[0;34m\u001b[0m\u001b[0;34m\u001b[0m\u001b[0m\n",
            "\u001b[0;32m/usr/local/lib/python3.11/dist-packages/pandas/core/series.py\u001b[0m in \u001b[0;36mmedian\u001b[0;34m(self, axis, skipna, numeric_only, **kwargs)\u001b[0m\n\u001b[1;32m   6557\u001b[0m         \u001b[0;34m**\u001b[0m\u001b[0mkwargs\u001b[0m\u001b[0;34m,\u001b[0m\u001b[0;34m\u001b[0m\u001b[0;34m\u001b[0m\u001b[0m\n\u001b[1;32m   6558\u001b[0m     ):\n\u001b[0;32m-> 6559\u001b[0;31m         \u001b[0;32mreturn\u001b[0m \u001b[0mNDFrame\u001b[0m\u001b[0;34m.\u001b[0m\u001b[0mmedian\u001b[0m\u001b[0;34m(\u001b[0m\u001b[0mself\u001b[0m\u001b[0;34m,\u001b[0m \u001b[0maxis\u001b[0m\u001b[0;34m,\u001b[0m \u001b[0mskipna\u001b[0m\u001b[0;34m,\u001b[0m \u001b[0mnumeric_only\u001b[0m\u001b[0;34m,\u001b[0m \u001b[0;34m**\u001b[0m\u001b[0mkwargs\u001b[0m\u001b[0;34m)\u001b[0m\u001b[0;34m\u001b[0m\u001b[0;34m\u001b[0m\u001b[0m\n\u001b[0m\u001b[1;32m   6560\u001b[0m \u001b[0;34m\u001b[0m\u001b[0m\n\u001b[1;32m   6561\u001b[0m     \u001b[0;34m@\u001b[0m\u001b[0mdoc\u001b[0m\u001b[0;34m(\u001b[0m\u001b[0mmake_doc\u001b[0m\u001b[0;34m(\u001b[0m\u001b[0;34m\"sem\"\u001b[0m\u001b[0;34m,\u001b[0m \u001b[0mndim\u001b[0m\u001b[0;34m=\u001b[0m\u001b[0;36m1\u001b[0m\u001b[0;34m)\u001b[0m\u001b[0;34m)\u001b[0m\u001b[0;34m\u001b[0m\u001b[0;34m\u001b[0m\u001b[0m\n",
            "\u001b[0;32m/usr/local/lib/python3.11/dist-packages/pandas/core/generic.py\u001b[0m in \u001b[0;36mmedian\u001b[0;34m(self, axis, skipna, numeric_only, **kwargs)\u001b[0m\n\u001b[1;32m  12429\u001b[0m         \u001b[0;34m**\u001b[0m\u001b[0mkwargs\u001b[0m\u001b[0;34m,\u001b[0m\u001b[0;34m\u001b[0m\u001b[0;34m\u001b[0m\u001b[0m\n\u001b[1;32m  12430\u001b[0m     ) -> Series | float:\n\u001b[0;32m> 12431\u001b[0;31m         return self._stat_function(\n\u001b[0m\u001b[1;32m  12432\u001b[0m             \u001b[0;34m\"median\"\u001b[0m\u001b[0;34m,\u001b[0m \u001b[0mnanops\u001b[0m\u001b[0;34m.\u001b[0m\u001b[0mnanmedian\u001b[0m\u001b[0;34m,\u001b[0m \u001b[0maxis\u001b[0m\u001b[0;34m,\u001b[0m \u001b[0mskipna\u001b[0m\u001b[0;34m,\u001b[0m \u001b[0mnumeric_only\u001b[0m\u001b[0;34m,\u001b[0m \u001b[0;34m**\u001b[0m\u001b[0mkwargs\u001b[0m\u001b[0;34m\u001b[0m\u001b[0;34m\u001b[0m\u001b[0m\n\u001b[1;32m  12433\u001b[0m         )\n",
            "\u001b[0;32m/usr/local/lib/python3.11/dist-packages/pandas/core/generic.py\u001b[0m in \u001b[0;36m_stat_function\u001b[0;34m(self, name, func, axis, skipna, numeric_only, **kwargs)\u001b[0m\n\u001b[1;32m  12375\u001b[0m         \u001b[0mvalidate_bool_kwarg\u001b[0m\u001b[0;34m(\u001b[0m\u001b[0mskipna\u001b[0m\u001b[0;34m,\u001b[0m \u001b[0;34m\"skipna\"\u001b[0m\u001b[0;34m,\u001b[0m \u001b[0mnone_allowed\u001b[0m\u001b[0;34m=\u001b[0m\u001b[0;32mFalse\u001b[0m\u001b[0;34m)\u001b[0m\u001b[0;34m\u001b[0m\u001b[0;34m\u001b[0m\u001b[0m\n\u001b[1;32m  12376\u001b[0m \u001b[0;34m\u001b[0m\u001b[0m\n\u001b[0;32m> 12377\u001b[0;31m         return self._reduce(\n\u001b[0m\u001b[1;32m  12378\u001b[0m             \u001b[0mfunc\u001b[0m\u001b[0;34m,\u001b[0m \u001b[0mname\u001b[0m\u001b[0;34m=\u001b[0m\u001b[0mname\u001b[0m\u001b[0;34m,\u001b[0m \u001b[0maxis\u001b[0m\u001b[0;34m=\u001b[0m\u001b[0maxis\u001b[0m\u001b[0;34m,\u001b[0m \u001b[0mskipna\u001b[0m\u001b[0;34m=\u001b[0m\u001b[0mskipna\u001b[0m\u001b[0;34m,\u001b[0m \u001b[0mnumeric_only\u001b[0m\u001b[0;34m=\u001b[0m\u001b[0mnumeric_only\u001b[0m\u001b[0;34m\u001b[0m\u001b[0;34m\u001b[0m\u001b[0m\n\u001b[1;32m  12379\u001b[0m         )\n",
            "\u001b[0;32m/usr/local/lib/python3.11/dist-packages/pandas/core/series.py\u001b[0m in \u001b[0;36m_reduce\u001b[0;34m(self, op, name, axis, skipna, numeric_only, filter_type, **kwds)\u001b[0m\n\u001b[1;32m   6455\u001b[0m                     \u001b[0;34m\"with non-numeric dtypes.\"\u001b[0m\u001b[0;34m\u001b[0m\u001b[0;34m\u001b[0m\u001b[0m\n\u001b[1;32m   6456\u001b[0m                 )\n\u001b[0;32m-> 6457\u001b[0;31m             \u001b[0;32mreturn\u001b[0m \u001b[0mop\u001b[0m\u001b[0;34m(\u001b[0m\u001b[0mdelegate\u001b[0m\u001b[0;34m,\u001b[0m \u001b[0mskipna\u001b[0m\u001b[0;34m=\u001b[0m\u001b[0mskipna\u001b[0m\u001b[0;34m,\u001b[0m \u001b[0;34m**\u001b[0m\u001b[0mkwds\u001b[0m\u001b[0;34m)\u001b[0m\u001b[0;34m\u001b[0m\u001b[0;34m\u001b[0m\u001b[0m\n\u001b[0m\u001b[1;32m   6458\u001b[0m \u001b[0;34m\u001b[0m\u001b[0m\n\u001b[1;32m   6459\u001b[0m     \u001b[0;34m@\u001b[0m\u001b[0mAppender\u001b[0m\u001b[0;34m(\u001b[0m\u001b[0mmake_doc\u001b[0m\u001b[0;34m(\u001b[0m\u001b[0;34m\"any\"\u001b[0m\u001b[0;34m,\u001b[0m \u001b[0mndim\u001b[0m\u001b[0;34m=\u001b[0m\u001b[0;36m1\u001b[0m\u001b[0;34m)\u001b[0m\u001b[0;34m)\u001b[0m\u001b[0;34m\u001b[0m\u001b[0;34m\u001b[0m\u001b[0m\n",
            "\u001b[0;32m/usr/local/lib/python3.11/dist-packages/pandas/core/nanops.py\u001b[0m in \u001b[0;36mf\u001b[0;34m(values, axis, skipna, **kwds)\u001b[0m\n\u001b[1;32m    145\u001b[0m                     \u001b[0mresult\u001b[0m \u001b[0;34m=\u001b[0m \u001b[0malt\u001b[0m\u001b[0;34m(\u001b[0m\u001b[0mvalues\u001b[0m\u001b[0;34m,\u001b[0m \u001b[0maxis\u001b[0m\u001b[0;34m=\u001b[0m\u001b[0maxis\u001b[0m\u001b[0;34m,\u001b[0m \u001b[0mskipna\u001b[0m\u001b[0;34m=\u001b[0m\u001b[0mskipna\u001b[0m\u001b[0;34m,\u001b[0m \u001b[0;34m**\u001b[0m\u001b[0mkwds\u001b[0m\u001b[0;34m)\u001b[0m\u001b[0;34m\u001b[0m\u001b[0;34m\u001b[0m\u001b[0m\n\u001b[1;32m    146\u001b[0m             \u001b[0;32melse\u001b[0m\u001b[0;34m:\u001b[0m\u001b[0;34m\u001b[0m\u001b[0;34m\u001b[0m\u001b[0m\n\u001b[0;32m--> 147\u001b[0;31m                 \u001b[0mresult\u001b[0m \u001b[0;34m=\u001b[0m \u001b[0malt\u001b[0m\u001b[0;34m(\u001b[0m\u001b[0mvalues\u001b[0m\u001b[0;34m,\u001b[0m \u001b[0maxis\u001b[0m\u001b[0;34m=\u001b[0m\u001b[0maxis\u001b[0m\u001b[0;34m,\u001b[0m \u001b[0mskipna\u001b[0m\u001b[0;34m=\u001b[0m\u001b[0mskipna\u001b[0m\u001b[0;34m,\u001b[0m \u001b[0;34m**\u001b[0m\u001b[0mkwds\u001b[0m\u001b[0;34m)\u001b[0m\u001b[0;34m\u001b[0m\u001b[0;34m\u001b[0m\u001b[0m\n\u001b[0m\u001b[1;32m    148\u001b[0m \u001b[0;34m\u001b[0m\u001b[0m\n\u001b[1;32m    149\u001b[0m             \u001b[0;32mreturn\u001b[0m \u001b[0mresult\u001b[0m\u001b[0;34m\u001b[0m\u001b[0;34m\u001b[0m\u001b[0m\n",
            "\u001b[0;32m/usr/local/lib/python3.11/dist-packages/pandas/core/nanops.py\u001b[0m in \u001b[0;36mnanmedian\u001b[0;34m(values, axis, skipna, mask)\u001b[0m\n\u001b[1;32m    785\u001b[0m             \u001b[0minferred\u001b[0m \u001b[0;34m=\u001b[0m \u001b[0mlib\u001b[0m\u001b[0;34m.\u001b[0m\u001b[0minfer_dtype\u001b[0m\u001b[0;34m(\u001b[0m\u001b[0mvalues\u001b[0m\u001b[0;34m)\u001b[0m\u001b[0;34m\u001b[0m\u001b[0;34m\u001b[0m\u001b[0m\n\u001b[1;32m    786\u001b[0m             \u001b[0;32mif\u001b[0m \u001b[0minferred\u001b[0m \u001b[0;32min\u001b[0m \u001b[0;34m[\u001b[0m\u001b[0;34m\"string\"\u001b[0m\u001b[0;34m,\u001b[0m \u001b[0;34m\"mixed\"\u001b[0m\u001b[0;34m]\u001b[0m\u001b[0;34m:\u001b[0m\u001b[0;34m\u001b[0m\u001b[0;34m\u001b[0m\u001b[0m\n\u001b[0;32m--> 787\u001b[0;31m                 \u001b[0;32mraise\u001b[0m \u001b[0mTypeError\u001b[0m\u001b[0;34m(\u001b[0m\u001b[0;34mf\"Cannot convert {values} to numeric\"\u001b[0m\u001b[0;34m)\u001b[0m\u001b[0;34m\u001b[0m\u001b[0;34m\u001b[0m\u001b[0m\n\u001b[0m\u001b[1;32m    788\u001b[0m         \u001b[0;32mtry\u001b[0m\u001b[0;34m:\u001b[0m\u001b[0;34m\u001b[0m\u001b[0;34m\u001b[0m\u001b[0m\n\u001b[1;32m    789\u001b[0m             \u001b[0mvalues\u001b[0m \u001b[0;34m=\u001b[0m \u001b[0mvalues\u001b[0m\u001b[0;34m.\u001b[0m\u001b[0mastype\u001b[0m\u001b[0;34m(\u001b[0m\u001b[0;34m\"f8\"\u001b[0m\u001b[0;34m)\u001b[0m\u001b[0;34m\u001b[0m\u001b[0;34m\u001b[0m\u001b[0m\n",
            "\u001b[0;31mTypeError\u001b[0m: Cannot convert ['20.7' '17.9' '18.8' ... '13.5' '15.7' '13'] to numeric"
          ]
        }
      ]
    }
  ]
}