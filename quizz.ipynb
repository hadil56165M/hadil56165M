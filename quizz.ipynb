{
  "nbformat": 4,
  "nbformat_minor": 0,
  "metadata": {
    "colab": {
      "provenance": [],
      "gpuType": "T4",
      "authorship_tag": "ABX9TyOe7eh5uodUOyF11A1BTEYI",
      "include_colab_link": true
    },
    "kernelspec": {
      "name": "python3",
      "display_name": "Python 3"
    },
    "language_info": {
      "name": "python"
    },
    "accelerator": "GPU"
  },
  "cells": [
    {
      "cell_type": "markdown",
      "metadata": {
        "id": "view-in-github",
        "colab_type": "text"
      },
      "source": [
        "<a href=\"https://colab.research.google.com/github/hadil56165M/hadil56165M/blob/main/quizz.ipynb\" target=\"_parent\"><img src=\"https://colab.research.google.com/assets/colab-badge.svg\" alt=\"Open In Colab\"/></a>"
      ]
    },
    {
      "cell_type": "code",
      "source": [
        "from typing import Dict, List, Tuple\n",
        "import json\n",
        "from IPython.display import display, Markdown\n",
        "import random\n",
        "\n",
        "class PersonalityQuizAgent:\n",
        "    def __init__(self):\n",
        "        \"\"\"Initialize the personality quiz agent with question banks and classification logic\"\"\"\n",
        "        self.age_groups = {\n",
        "            \"teen\": (13, 19),\n",
        "            \"young_adult\": (20, 35),\n",
        "            \"adult\": (36, 65),\n",
        "            \"senior\": (66, 120)\n",
        "        }\n",
        "\n",
        "        # Initialize question bank\n",
        "        self.question_bank = self._initialize_question_bank()\n",
        "\n",
        "        # Personality models and classification criteria\n",
        "        self.personality_models = {\n",
        "            \"big_five\": {\n",
        "                \"traits\": [\"Openness\", \"Conscientiousness\", \"Extraversion\", \"Agreeableness\", \"Neuroticism\"],\n",
        "                \"thresholds\": {\n",
        "                    \"low\": 0.3,\n",
        "                    \"medium\": 0.6,\n",
        "                    \"high\": 1.0\n",
        "                }\n",
        "            },\n",
        "            \"mbti_style\": {\n",
        "                \"dimensions\": [\n",
        "                    (\"Introversion\", \"Extraversion\"),\n",
        "                    (\"Sensing\", \"Intuition\"),\n",
        "                    (\"Thinking\", \"Feeling\"),\n",
        "                    (\"Judging\", \"Perceiving\")\n",
        "                ]\n",
        "            }\n",
        "        }\n",
        "\n",
        "    def _initialize_question_bank(self) -> Dict[str, List[Dict]]:\n",
        "        \"\"\"Initialize and return the question bank with categorized questions\"\"\"\n",
        "        return {\n",
        "            \"introversion_extraversion\": [\n",
        "                {\n",
        "                    \"question\": \"How do you typically recharge your energy?\",\n",
        "                    \"options\": [\n",
        "                        {\"text\": \"By spending time alone\", \"score\": {\"introversion\": 1}},\n",
        "                        {\"text\": \"By socializing with others\", \"score\": {\"extraversion\": 1}},\n",
        "                        {\"text\": \"It depends on my mood\", \"score\": {\"introversion\": 0.5, \"extraversion\": 0.5}}\n",
        "                    ],\n",
        "                    \"age_groups\": [\"teen\", \"young_adult\", \"adult\", \"senior\"]\n",
        "                },\n",
        "                {\n",
        "                    \"question\": \"In social situations, you usually:\",\n",
        "                    \"options\": [\n",
        "                        {\"text\": \"Initiate conversations\", \"score\": {\"extraversion\": 1}},\n",
        "                        {\"text\": \"Wait for others to approach you\", \"score\": {\"introversion\": 1}},\n",
        "                        {\"text\": \"Feel comfortable once the conversation starts\", \"score\": {\"extraversion\": 0.5, \"introversion\": 0.5}}\n",
        "                    ],\n",
        "                    \"age_groups\": [\"teen\", \"young_adult\", \"adult\", \"senior\"]\n",
        "                },\n",
        "                {\n",
        "                    \"question\": \"How do you feel about large parties?\",\n",
        "                    \"options\": [\n",
        "                        {\"text\": \"I find them energizing and exciting\", \"score\": {\"extraversion\": 1}},\n",
        "                        {\"text\": \"They drain me and I need recovery time afterward\", \"score\": {\"introversion\": 1}},\n",
        "                        {\"text\": \"I can enjoy them in moderation\", \"score\": {\"extraversion\": 0.5, \"introversion\": 0.5}}\n",
        "                    ],\n",
        "                    \"age_groups\": [\"teen\", \"young_adult\", \"adult\", \"senior\"]\n",
        "                }\n",
        "            ],\n",
        "            \"emotional_regulation\": [\n",
        "                {\n",
        "                    \"question\": \"When faced with stress, you tend to:\",\n",
        "                    \"options\": [\n",
        "                        {\"text\": \"Analyze the situation calmly\", \"score\": {\"emotional_stability\": 1}},\n",
        "                        {\"text\": \"React emotionally at first\", \"score\": {\"emotional_stability\": -1}},\n",
        "                        {\"text\": \"Seek support from others\", \"score\": {\"emotional_stability\": 0.5}}\n",
        "                    ],\n",
        "                    \"age_groups\": [\"young_adult\", \"adult\"]\n",
        "                },\n",
        "                {\n",
        "                    \"question\": \"When something upsetting happens, how long does it typically affect you?\",\n",
        "                    \"options\": [\n",
        "                        {\"text\": \"I bounce back quickly\", \"score\": {\"emotional_stability\": 1}},\n",
        "                        {\"text\": \"It stays with me for hours or days\", \"score\": {\"emotional_stability\": -1}},\n",
        "                        {\"text\": \"It depends on the situation\", \"score\": {\"emotional_stability\": 0.5}}\n",
        "                    ],\n",
        "                    \"age_groups\": [\"young_adult\", \"adult\", \"senior\"]\n",
        "                },\n",
        "                {\n",
        "                    \"question\": \"How often do you experience mood swings?\",\n",
        "                    \"options\": [\n",
        "                        {\"text\": \"Rarely, my mood is generally stable\", \"score\": {\"emotional_stability\": 1}},\n",
        "                        {\"text\": \"Frequently, my mood changes often\", \"score\": {\"emotional_stability\": -1}},\n",
        "                        {\"text\": \"Occasionally, depending on circumstances\", \"score\": {\"emotional_stability\": 0}}\n",
        "                    ],\n",
        "                    \"age_groups\": [\"teen\", \"young_adult\", \"adult\"]\n",
        "                }\n",
        "            ],\n",
        "            \"openness_experience\": [\n",
        "                {\n",
        "                    \"question\": \"How do you feel about trying new things?\",\n",
        "                    \"options\": [\n",
        "                        {\"text\": \"I love exploring new ideas and experiences\", \"score\": {\"openness\": 1}},\n",
        "                        {\"text\": \"I prefer familiar routines\", \"score\": {\"openness\": -1}},\n",
        "                        {\"text\": \"I'm open to new things in moderation\", \"score\": {\"openness\": 0.5}}\n",
        "                    ],\n",
        "                    \"age_groups\": [\"teen\", \"young_adult\", \"adult\", \"senior\"]\n",
        "                },\n",
        "                {\n",
        "                    \"question\": \"When presented with an unconventional idea, you:\",\n",
        "                    \"options\": [\n",
        "                        {\"text\": \"Get excited about its possibilities\", \"score\": {\"openness\": 1}},\n",
        "                        {\"text\": \"Question its practicality\", \"score\": {\"openness\": -1}},\n",
        "                        {\"text\": \"Consider it carefully before deciding\", \"score\": {\"openness\": 0.5}}\n",
        "                    ],\n",
        "                    \"age_groups\": [\"young_adult\", \"adult\"]\n",
        "                }\n",
        "            ],\n",
        "            \"conscientiousness\": [\n",
        "                {\n",
        "                    \"question\": \"How do you approach deadlines?\",\n",
        "                    \"options\": [\n",
        "                        {\"text\": \"I plan ahead and meet them comfortably\", \"score\": {\"conscientiousness\": 1}},\n",
        "                        {\"text\": \"I often procrastinate and rush at the end\", \"score\": {\"conscientiousness\": -1}},\n",
        "                        {\"text\": \"I sometimes need last-minute pressure to focus\", \"score\": {\"conscientiousness\": 0}}\n",
        "                    ],\n",
        "                    \"age_groups\": [\"young_adult\", \"adult\"]\n",
        "                },\n",
        "                {\n",
        "                    \"question\": \"Your living/working space is typically:\",\n",
        "                    \"options\": [\n",
        "                        {\"text\": \"Very organized and tidy\", \"score\": {\"conscientiousness\": 1}},\n",
        "                        {\"text\": \"Somewhat messy but I know where things are\", \"score\": {\"conscientiousness\": 0}},\n",
        "                        {\"text\": \"Quite disorganized\", \"score\": {\"conscientiousness\": -1}}\n",
        "                    ],\n",
        "                    \"age_groups\": [\"teen\", \"young_adult\", \"adult\", \"senior\"]\n",
        "                }\n",
        "            ],\n",
        "            \"agreeableness\": [\n",
        "                {\n",
        "                    \"question\": \"When someone disagrees with you, you usually:\",\n",
        "                    \"options\": [\n",
        "                        {\"text\": \"Try to find common ground\", \"score\": {\"agreeableness\": 1}},\n",
        "                        {\"text\": \"Stand firm on your position\", \"score\": {\"agreeableness\": -1}},\n",
        "                        {\"text\": \"Depends on how important the issue is\", \"score\": {\"agreeableness\": 0.5}}\n",
        "                    ],\n",
        "                    \"age_groups\": [\"young_adult\", \"adult\", \"senior\"]\n",
        "                },\n",
        "                {\n",
        "                    \"question\": \"How easily do you trust others?\",\n",
        "                    \"options\": [\n",
        "                        {\"text\": \"I tend to trust people unless given reason not to\", \"score\": {\"agreeableness\": 1}},\n",
        "                        {\"text\": \"I'm cautious about trusting others\", \"score\": {\"agreeableness\": -1}},\n",
        "                        {\"text\": \"It takes time for me to trust someone\", \"score\": {\"agreeableness\": 0}}\n",
        "                    ],\n",
        "                    \"age_groups\": [\"young_adult\", \"adult\", \"senior\"]\n",
        "                }\n",
        "            ],\n",
        "            \"psychological_wellbeing\": [\n",
        "                {\n",
        "                    \"question\": \"How often do you feel anxious or worried without a specific reason?\",\n",
        "                    \"options\": [\n",
        "                        {\"text\": \"Rarely or never\", \"score\": {\"neuroticism\": -1, \"wellbeing\": 1}},\n",
        "                        {\"text\": \"Sometimes\", \"score\": {\"neuroticism\": 0.5, \"wellbeing\": 0}},\n",
        "                        {\"text\": \"Frequently\", \"score\": {\"neuroticism\": 1, \"wellbeing\": -1}}\n",
        "                    ],\n",
        "                    \"age_groups\": [\"teen\", \"young_adult\", \"adult\"]\n",
        "                },\n",
        "                {\n",
        "                    \"question\": \"How would you describe your general mood over the past month?\",\n",
        "                    \"options\": [\n",
        "                        {\"text\": \"Mostly positive\", \"score\": {\"wellbeing\": 1, \"neuroticism\": -1}},\n",
        "                        {\"text\": \"A mix of positive and negative\", \"score\": {\"wellbeing\": 0, \"neuroticism\": 0}},\n",
        "                        {\"text\": \"Mostly negative\", \"score\": {\"wellbeing\": -1, \"neuroticism\": 1}}\n",
        "                    ],\n",
        "                    \"age_groups\": [\"teen\", \"young_adult\", \"adult\", \"senior\"]\n",
        "                },\n",
        "                {\n",
        "                    \"question\": \"How often do you experience feelings of worthlessness or guilt?\",\n",
        "                    \"options\": [\n",
        "                        {\"text\": \"Rarely or never\", \"score\": {\"wellbeing\": 1, \"neuroticism\": -1}},\n",
        "                        {\"text\": \"Occasionally\", \"score\": {\"wellbeing\": 0, \"neuroticism\": 0.5}},\n",
        "                        {\"text\": \"Frequently\", \"score\": {\"wellbeing\": -1, \"neuroticism\": 1}}\n",
        "                    ],\n",
        "                    \"age_groups\": [\"teen\", \"young_adult\", \"adult\"]\n",
        "                }\n",
        "            ],\n",
        "            \"coping_mechanisms\": [\n",
        "                {\n",
        "                    \"question\": \"When facing a difficult problem, you typically:\",\n",
        "                    \"options\": [\n",
        "                        {\"text\": \"Tackle it head-on with a plan\", \"score\": {\"resilience\": 1}},\n",
        "                        {\"text\": \"Avoid thinking about it\", \"score\": {\"resilience\": -1}},\n",
        "                        {\"text\": \"Seek help from others\", \"score\": {\"resilience\": 0.5}}\n",
        "                    ],\n",
        "                    \"age_groups\": [\"young_adult\", \"adult\"]\n",
        "                },\n",
        "                {\n",
        "                    \"question\": \"How do you handle failure or setbacks?\",\n",
        "                    \"options\": [\n",
        "                        {\"text\": \"Learn from them and move on\", \"score\": {\"resilience\": 1}},\n",
        "                        {\"text\": \"Dwell on them for a long time\", \"score\": {\"resilience\": -1}},\n",
        "                        {\"text\": \"Need some time before recovering\", \"score\": {\"resilience\": 0.5}}\n",
        "                    ],\n",
        "                    \"age_groups\": [\"teen\", \"young_adult\", \"adult\"]\n",
        "                }\n",
        "            ],\n",
        "            \"social_relationships\": [\n",
        "                {\n",
        "                    \"question\": \"How satisfied are you with your social relationships?\",\n",
        "                    \"options\": [\n",
        "                        {\"text\": \"Very satisfied\", \"score\": {\"social_support\": 1}},\n",
        "                        {\"text\": \"Somewhat satisfied\", \"score\": {\"social_support\": 0.5}},\n",
        "                        {\"text\": \"Not very satisfied\", \"score\": {\"social_support\": -1}}\n",
        "                    ],\n",
        "                    \"age_groups\": [\"teen\", \"young_adult\", \"adult\", \"senior\"]\n",
        "                },\n",
        "                {\n",
        "                    \"question\": \"How often do you feel lonely?\",\n",
        "                    \"options\": [\n",
        "                        {\"text\": \"Rarely or never\", \"score\": {\"social_support\": 1}},\n",
        "                        {\"text\": \"Sometimes\", \"score\": {\"social_support\": 0}},\n",
        "                        {\"text\": \"Often\", \"score\": {\"social_support\": -1}}\n",
        "                    ],\n",
        "                    \"age_groups\": [\"teen\", \"young_adult\", \"adult\", \"senior\"]\n",
        "                }\n",
        "            ],\n",
        "            \"self_perception\": [\n",
        "                {\n",
        "                    \"question\": \"How would you describe your self-confidence?\",\n",
        "                    \"options\": [\n",
        "                        {\"text\": \"Generally high\", \"score\": {\"self_esteem\": 1}},\n",
        "                        {\"text\": \"It varies depending on the situation\", \"score\": {\"self_esteem\": 0}},\n",
        "                        {\"text\": \"Generally low\", \"score\": {\"self_esteem\": -1}}\n",
        "                    ],\n",
        "                    \"age_groups\": [\"teen\", \"young_adult\", \"adult\"]\n",
        "                },\n",
        "                {\n",
        "                    \"question\": \"How comfortable are you with your physical appearance?\",\n",
        "                    \"options\": [\n",
        "                        {\"text\": \"Very comfortable\", \"score\": {\"self_esteem\": 1}},\n",
        "                        {\"text\": \"Somewhat comfortable\", \"score\": {\"self_esteem\": 0.5}},\n",
        "                        {\"text\": \"Not very comfortable\", \"score\": {\"self_esteem\": -1}}\n",
        "                    ],\n",
        "                    \"age_groups\": [\"teen\", \"young_adult\", \"adult\"]\n",
        "                }\n",
        "            ],\n",
        "            \"life_satisfaction\": [\n",
        "                {\n",
        "                    \"question\": \"Overall, how satisfied are you with your life right now?\",\n",
        "                    \"options\": [\n",
        "                        {\"text\": \"Very satisfied\", \"score\": {\"life_satisfaction\": 1}},\n",
        "                        {\"text\": \"Somewhat satisfied\", \"score\": {\"life_satisfaction\": 0.5}},\n",
        "                        {\"text\": \"Not very satisfied\", \"score\": {\"life_satisfaction\": -1}}\n",
        "                    ],\n",
        "                    \"age_groups\": [\"young_adult\", \"adult\", \"senior\"]\n",
        "                },\n",
        "                {\n",
        "                    \"question\": \"How often do you feel optimistic about your future?\",\n",
        "                    \"options\": [\n",
        "                        {\"text\": \"Often\", \"score\": {\"life_satisfaction\": 1}},\n",
        "                        {\"text\": \"Sometimes\", \"score\": {\"life_satisfaction\": 0.5}},\n",
        "                        {\"text\": \"Rarely\", \"score\": {\"life_satisfaction\": -1}}\n",
        "                    ],\n",
        "                    \"age_groups\": [\"teen\", \"young_adult\", \"adult\"]\n",
        "                }\n",
        "            ],\n",
        "            \"stress_management\": [\n",
        "                {\n",
        "                    \"question\": \"How well do you handle daily stressors?\",\n",
        "                    \"options\": [\n",
        "                        {\"text\": \"Very well, they rarely bother me\", \"score\": {\"stress_management\": 1}},\n",
        "                        {\"text\": \"Moderately well, but sometimes they get to me\", \"score\": {\"stress_management\": 0.5}},\n",
        "                        {\"text\": \"Not very well, I often feel overwhelmed\", \"score\": {\"stress_management\": -1}}\n",
        "                    ],\n",
        "                    \"age_groups\": [\"young_adult\", \"adult\"]\n",
        "                },\n",
        "                {\n",
        "                    \"question\": \"How often do you practice stress-reduction techniques (meditation, exercise, etc.)?\",\n",
        "                    \"options\": [\n",
        "                        {\"text\": \"Regularly\", \"score\": {\"stress_management\": 1}},\n",
        "                        {\"text\": \"Occasionally\", \"score\": {\"stress_management\": 0.5}},\n",
        "                        {\"text\": \"Rarely or never\", \"score\": {\"stress_management\": -1}}\n",
        "                    ],\n",
        "                    \"age_groups\": [\"young_adult\", \"adult\", \"senior\"]\n",
        "                }\n",
        "            ],\n",
        "            \"sleep_habits\": [\n",
        "                {\n",
        "                    \"question\": \"How would you describe your sleep quality?\",\n",
        "                    \"options\": [\n",
        "                        {\"text\": \"Generally good\", \"score\": {\"sleep_quality\": 1}},\n",
        "                        {\"text\": \"Sometimes good, sometimes poor\", \"score\": {\"sleep_quality\": 0}},\n",
        "                        {\"text\": \"Generally poor\", \"score\": {\"sleep_quality\": -1}}\n",
        "                    ],\n",
        "                    \"age_groups\": [\"teen\", \"young_adult\", \"adult\", \"senior\"]\n",
        "                }\n",
        "            ]\n",
        "        }\n",
        "\n",
        "    # Rest of the class methods remain unchanged...\n",
        "    def determine_age_group(self, age: int) -> str:\n",
        "        \"\"\"Determine the age group based on the user's age\"\"\"\n",
        "        for group, (min_age, max_age) in self.age_groups.items():\n",
        "            if min_age <= age <= max_age:\n",
        "                return group\n",
        "        return \"adult\"  # default\n",
        "\n",
        "    def select_questions(self, age_group: str, num_questions: int = 25) -> List[Dict]:\n",
        "        \"\"\"Select questions appropriate for the age group\"\"\"\n",
        "        selected_questions = []\n",
        "\n",
        "        # Get questions from all categories that are appropriate for the age group\n",
        "        for category, questions in self.question_bank.items():\n",
        "            for question in questions:\n",
        "                if age_group in question[\"age_groups\"]:\n",
        "                    selected_questions.append(question)\n",
        "\n",
        "        # Randomly select the specified number of questions\n",
        "        return random.sample(selected_questions, min(num_questions, len(selected_questions)))\n",
        "\n",
        "    def conduct_quiz(self) -> Dict:\n",
        "        \"\"\"Conduct the full quiz interaction\"\"\"\n",
        "        # Step 1: Ask for age\n",
        "        display(Markdown(\"## Personality Quiz\"))\n",
        "        age = self._get_user_age()\n",
        "        age_group = self.determine_age_group(age)\n",
        "\n",
        "        # Step 2: Select and ask questions\n",
        "        questions = self.select_questions(age_group)\n",
        "        answers = []\n",
        "\n",
        "        display(Markdown(\"### Please answer the following questions:\"))\n",
        "        for i, question in enumerate(questions, 1):\n",
        "            answer = self._ask_question(question, i)\n",
        "            answers.append(answer)\n",
        "\n",
        "        # Step 3: Analyze responses\n",
        "        classification, analysis = self.analyze_responses(answers)\n",
        "\n",
        "        # Step 4: Prepare final output\n",
        "        result = {\n",
        "            \"age_group\": age_group,\n",
        "            \"classification\": classification,\n",
        "            \"analysis\": analysis,\n",
        "            \"recommendation_message\": (\n",
        "                \"Based on your personality, you can get further help and ideas by \"\n",
        "                \"exploring our personalized recommendations.\\n\\n\"\n",
        "                \"■ [Click here] to consult our knowledge base and recommendation system.\"\n",
        "            )\n",
        "        }\n",
        "\n",
        "        # Step 5: Display results\n",
        "        self._display_results(result)\n",
        "\n",
        "        # Step 6: Simulate server integration\n",
        "        self._simulate_server_integration(result)\n",
        "\n",
        "        return result\n",
        "\n",
        "    def _get_user_age(self) -> int:\n",
        "        \"\"\"Get and validate user's age\"\"\"\n",
        "        while True:\n",
        "            try:\n",
        "                age = int(input(\"First, please enter your age: \"))\n",
        "                if age < 13 or age > 120:\n",
        "                    print(\"Please enter an age between 13 and 120.\")\n",
        "                    continue\n",
        "                return age\n",
        "            except ValueError:\n",
        "                print(\"Please enter a valid number for your age.\")\n",
        "\n",
        "    def _ask_question(self, question: Dict, question_num: int) -> Dict:\n",
        "        \"\"\"Present a single question and get user's answer\"\"\"\n",
        "        display(Markdown(f\"#### Question {question_num}: {question['question']}\"))\n",
        "\n",
        "        for i, option in enumerate(question[\"options\"], 1):\n",
        "            display(Markdown(f\"{i}. {option['text']}\"))\n",
        "\n",
        "        while True:\n",
        "            try:\n",
        "                choice = int(input(\"Your choice (1-3): \"))\n",
        "                if 1 <= choice <= len(question[\"options\"]):\n",
        "                    return {\n",
        "                        \"question\": question[\"question\"],\n",
        "                        \"answer\": question[\"options\"][choice-1][\"text\"],\n",
        "                        \"scores\": question[\"options\"][choice-1][\"score\"]\n",
        "                    }\n",
        "                print(f\"Please enter a number between 1 and {len(question['options'])}\")\n",
        "            except ValueError:\n",
        "                print(\"Please enter a valid number.\")\n",
        "\n",
        "    def analyze_responses(self, answers: List[Dict]) -> Tuple[str, str]:\n",
        "        \"\"\"Analyze the quiz responses and generate classification and analysis\"\"\"\n",
        "        # Calculate scores for each trait\n",
        "        trait_scores = {}\n",
        "        for answer in answers:\n",
        "            for trait, score in answer[\"scores\"].items():\n",
        "                trait_scores[trait] = trait_scores.get(trait, 0) + score\n",
        "\n",
        "        # Normalize scores\n",
        "        max_possible = len(answers)  # Assuming max score per question is 1\n",
        "        normalized_scores = {trait: score/max_possible for trait, score in trait_scores.items()}\n",
        "\n",
        "        # Classify using Big Five model\n",
        "        classification = self._classify_big_five(normalized_scores)\n",
        "\n",
        "        # Generate analysis\n",
        "        analysis = self._generate_analysis(normalized_scores, classification)\n",
        "\n",
        "        return classification, analysis\n",
        "\n",
        "    def _classify_big_five(self, scores: Dict[str, float]) -> str:\n",
        "        \"\"\"Classify personality using Big Five model\"\"\"\n",
        "        classification = []\n",
        "        thresholds = self.personality_models[\"big_five\"][\"thresholds\"]\n",
        "\n",
        "        for trait in self.personality_models[\"big_five\"][\"traits\"]:\n",
        "            trait_lower = trait.lower()\n",
        "            if trait_lower in scores:\n",
        "                score = scores[trait_lower]\n",
        "                if score < thresholds[\"low\"]:\n",
        "                    classification.append(f\"Low {trait}\")\n",
        "                elif score < thresholds[\"medium\"]:\n",
        "                    classification.append(f\"Medium {trait}\")\n",
        "                else:\n",
        "                    classification.append(f\"High {trait}\")\n",
        "\n",
        "        return \", \".join(classification)\n",
        "\n",
        "    def _generate_analysis(self, scores: Dict[str, float], classification: str) -> str:\n",
        "        \"\"\"Generate a personalized analysis based on the scores\"\"\"\n",
        "        analysis = [\"### Personality Analysis\\n\"]\n",
        "\n",
        "        # Add classification\n",
        "        analysis.append(f\"**Classification:** {classification}\\n\")\n",
        "\n",
        "        # Add trait explanations\n",
        "        analysis.append(\"\\n**Key Traits:**\")\n",
        "        for trait, score in scores.items():\n",
        "            analysis.append(f\"- {trait.capitalize()}: {self._interpret_score(score)}\")\n",
        "\n",
        "        # Add potential strengths and challenges\n",
        "        analysis.append(\"\\n**Potential Strengths:**\")\n",
        "        if scores.get(\"extraversion\", 0) > 0.6:\n",
        "            analysis.append(\"- Strong social skills and networking ability\")\n",
        "        if scores.get(\"conscientiousness\", 0) > 0.6:\n",
        "            analysis.append(\"- Good organization and follow-through\")\n",
        "\n",
        "        analysis.append(\"\\n**Potential Challenges:**\")\n",
        "        if scores.get(\"neuroticism\", 0) > 0.6:\n",
        "            analysis.append(\"- May experience higher stress or emotional sensitivity\")\n",
        "        if scores.get(\"introversion\", 0) > 0.6:\n",
        "            analysis.append(\"- May need more alone time to recharge\")\n",
        "\n",
        "        # Add mental health considerations\n",
        "        analysis.append(\"\\n**Mental Health Considerations:**\")\n",
        "        analysis.append(\"Your personality influences how you experience stress and seek support. \")\n",
        "        if scores.get(\"agreeableness\", 0) > 0.6:\n",
        "            analysis.append(\"Your high agreeableness suggests you may prioritize others' needs, \")\n",
        "            analysis.append(\"so remember to also care for yourself.\")\n",
        "\n",
        "        return \"\\n\".join(analysis)\n",
        "\n",
        "    def _interpret_score(self, score: float) -> str:\n",
        "        \"\"\"Interpret a normalized score\"\"\"\n",
        "        if score < 0.3:\n",
        "            return \"Low\"\n",
        "        elif score < 0.6:\n",
        "            return \"Moderate\"\n",
        "        else:\n",
        "            return \"High\"\n",
        "\n",
        "    def _display_results(self, result: Dict):\n",
        "        \"\"\"Display the quiz results to the user\"\"\"\n",
        "        display(Markdown(\"## Quiz Results\"))\n",
        "        display(Markdown(f\"**Age Group:** {result['age_group'].replace('_', ' ').title()}\"))\n",
        "        display(Markdown(f\"**Personality Classification:** {result['classification']}\"))\n",
        "        display(Markdown(result['analysis']))\n",
        "        display(Markdown(f\"\\n{result['recommendation_message']}\"))\n",
        "\n",
        "    def _simulate_server_integration(self, result: Dict):\n",
        "        \"\"\"Simulate integration with the knowledge server\"\"\"\n",
        "        display(Markdown(\"\\n### System Notification\"))\n",
        "        display(Markdown(\n",
        "            \"*(Simulating server integration - this would call the knowledge server in production)*\\n\\n\"\n",
        "            f\"POST /knowledge_server/personality_profile\\n\"\n",
        "            f\"Input: {json.dumps(result, indent=2)}\\n\"\n",
        "            \"Response: Personalized recommendations would be returned based on your profile\"\n",
        "        ))\n",
        "\n",
        "# Example usage\n",
        "if __name__ == \"__main__\":\n",
        "    quiz_agent = PersonalityQuizAgent()\n",
        "    quiz_results = quiz_agent.conduct_quiz()"
      ],
      "metadata": {
        "colab": {
          "base_uri": "https://localhost:8080/",
          "height": 1000
        },
        "id": "nz7p11cEY-3E",
        "outputId": "18b1a345-2d41-4ecb-d2d8-185ad037b964"
      },
      "execution_count": null,
      "outputs": [
        {
          "data": {
            "text/markdown": "## Personality Quiz",
            "text/plain": [
              "<IPython.core.display.Markdown object>"
            ]
          },
          "metadata": {},
          "output_type": "display_data"
        },
        {
          "data": {
            "text/markdown": "### Please answer the following questions:",
            "text/plain": [
              "<IPython.core.display.Markdown object>"
            ]
          },
          "metadata": {},
          "output_type": "display_data"
        },
        {
          "data": {
            "text/markdown": "#### Question 1: How comfortable are you with your physical appearance?",
            "text/plain": [
              "<IPython.core.display.Markdown object>"
            ]
          },
          "metadata": {},
          "output_type": "display_data"
        },
        {
          "data": {
            "text/markdown": "1. Very comfortable",
            "text/plain": [
              "<IPython.core.display.Markdown object>"
            ]
          },
          "metadata": {},
          "output_type": "display_data"
        },
        {
          "data": {
            "text/markdown": "2. Somewhat comfortable",
            "text/plain": [
              "<IPython.core.display.Markdown object>"
            ]
          },
          "metadata": {},
          "output_type": "display_data"
        },
        {
          "data": {
            "text/markdown": "3. Not very comfortable",
            "text/plain": [
              "<IPython.core.display.Markdown object>"
            ]
          },
          "metadata": {},
          "output_type": "display_data"
        },
        {
          "data": {
            "text/markdown": "#### Question 2: How do you feel about large parties?",
            "text/plain": [
              "<IPython.core.display.Markdown object>"
            ]
          },
          "metadata": {},
          "output_type": "display_data"
        },
        {
          "data": {
            "text/markdown": "1. I find them energizing and exciting",
            "text/plain": [
              "<IPython.core.display.Markdown object>"
            ]
          },
          "metadata": {},
          "output_type": "display_data"
        },
        {
          "data": {
            "text/markdown": "2. They drain me and I need recovery time afterward",
            "text/plain": [
              "<IPython.core.display.Markdown object>"
            ]
          },
          "metadata": {},
          "output_type": "display_data"
        },
        {
          "data": {
            "text/markdown": "3. I can enjoy them in moderation",
            "text/plain": [
              "<IPython.core.display.Markdown object>"
            ]
          },
          "metadata": {},
          "output_type": "display_data"
        },
        {
          "data": {
            "text/markdown": "#### Question 3: How often do you practice stress-reduction techniques (meditation, exercise, etc.)?",
            "text/plain": [
              "<IPython.core.display.Markdown object>"
            ]
          },
          "metadata": {},
          "output_type": "display_data"
        },
        {
          "data": {
            "text/markdown": "1. Regularly",
            "text/plain": [
              "<IPython.core.display.Markdown object>"
            ]
          },
          "metadata": {},
          "output_type": "display_data"
        },
        {
          "data": {
            "text/markdown": "2. Occasionally",
            "text/plain": [
              "<IPython.core.display.Markdown object>"
            ]
          },
          "metadata": {},
          "output_type": "display_data"
        },
        {
          "data": {
            "text/markdown": "3. Rarely or never",
            "text/plain": [
              "<IPython.core.display.Markdown object>"
            ]
          },
          "metadata": {},
          "output_type": "display_data"
        },
        {
          "data": {
            "text/markdown": "#### Question 4: When facing a difficult problem, you typically:",
            "text/plain": [
              "<IPython.core.display.Markdown object>"
            ]
          },
          "metadata": {},
          "output_type": "display_data"
        },
        {
          "data": {
            "text/markdown": "1. Tackle it head-on with a plan",
            "text/plain": [
              "<IPython.core.display.Markdown object>"
            ]
          },
          "metadata": {},
          "output_type": "display_data"
        },
        {
          "data": {
            "text/markdown": "2. Avoid thinking about it",
            "text/plain": [
              "<IPython.core.display.Markdown object>"
            ]
          },
          "metadata": {},
          "output_type": "display_data"
        },
        {
          "data": {
            "text/markdown": "3. Seek help from others",
            "text/plain": [
              "<IPython.core.display.Markdown object>"
            ]
          },
          "metadata": {},
          "output_type": "display_data"
        },
        {
          "data": {
            "text/markdown": "#### Question 5: How well do you handle daily stressors?",
            "text/plain": [
              "<IPython.core.display.Markdown object>"
            ]
          },
          "metadata": {},
          "output_type": "display_data"
        },
        {
          "data": {
            "text/markdown": "1. Very well, they rarely bother me",
            "text/plain": [
              "<IPython.core.display.Markdown object>"
            ]
          },
          "metadata": {},
          "output_type": "display_data"
        },
        {
          "data": {
            "text/markdown": "2. Moderately well, but sometimes they get to me",
            "text/plain": [
              "<IPython.core.display.Markdown object>"
            ]
          },
          "metadata": {},
          "output_type": "display_data"
        },
        {
          "data": {
            "text/markdown": "3. Not very well, I often feel overwhelmed",
            "text/plain": [
              "<IPython.core.display.Markdown object>"
            ]
          },
          "metadata": {},
          "output_type": "display_data"
        },
        {
          "data": {
            "text/markdown": "#### Question 6: When presented with an unconventional idea, you:",
            "text/plain": [
              "<IPython.core.display.Markdown object>"
            ]
          },
          "metadata": {},
          "output_type": "display_data"
        },
        {
          "data": {
            "text/markdown": "1. Get excited about its possibilities",
            "text/plain": [
              "<IPython.core.display.Markdown object>"
            ]
          },
          "metadata": {},
          "output_type": "display_data"
        },
        {
          "data": {
            "text/markdown": "2. Question its practicality",
            "text/plain": [
              "<IPython.core.display.Markdown object>"
            ]
          },
          "metadata": {},
          "output_type": "display_data"
        },
        {
          "data": {
            "text/markdown": "3. Consider it carefully before deciding",
            "text/plain": [
              "<IPython.core.display.Markdown object>"
            ]
          },
          "metadata": {},
          "output_type": "display_data"
        },
        {
          "data": {
            "text/markdown": "#### Question 7: In social situations, you usually:",
            "text/plain": [
              "<IPython.core.display.Markdown object>"
            ]
          },
          "metadata": {},
          "output_type": "display_data"
        },
        {
          "data": {
            "text/markdown": "1. Initiate conversations",
            "text/plain": [
              "<IPython.core.display.Markdown object>"
            ]
          },
          "metadata": {},
          "output_type": "display_data"
        },
        {
          "data": {
            "text/markdown": "2. Wait for others to approach you",
            "text/plain": [
              "<IPython.core.display.Markdown object>"
            ]
          },
          "metadata": {},
          "output_type": "display_data"
        },
        {
          "data": {
            "text/markdown": "3. Feel comfortable once the conversation starts",
            "text/plain": [
              "<IPython.core.display.Markdown object>"
            ]
          },
          "metadata": {},
          "output_type": "display_data"
        },
        {
          "data": {
            "text/markdown": "#### Question 8: Your living/working space is typically:",
            "text/plain": [
              "<IPython.core.display.Markdown object>"
            ]
          },
          "metadata": {},
          "output_type": "display_data"
        },
        {
          "data": {
            "text/markdown": "1. Very organized and tidy",
            "text/plain": [
              "<IPython.core.display.Markdown object>"
            ]
          },
          "metadata": {},
          "output_type": "display_data"
        },
        {
          "data": {
            "text/markdown": "2. Somewhat messy but I know where things are",
            "text/plain": [
              "<IPython.core.display.Markdown object>"
            ]
          },
          "metadata": {},
          "output_type": "display_data"
        },
        {
          "data": {
            "text/markdown": "3. Quite disorganized",
            "text/plain": [
              "<IPython.core.display.Markdown object>"
            ]
          },
          "metadata": {},
          "output_type": "display_data"
        },
        {
          "data": {
            "text/markdown": "#### Question 9: When someone disagrees with you, you usually:",
            "text/plain": [
              "<IPython.core.display.Markdown object>"
            ]
          },
          "metadata": {},
          "output_type": "display_data"
        },
        {
          "data": {
            "text/markdown": "1. Try to find common ground",
            "text/plain": [
              "<IPython.core.display.Markdown object>"
            ]
          },
          "metadata": {},
          "output_type": "display_data"
        },
        {
          "data": {
            "text/markdown": "2. Stand firm on your position",
            "text/plain": [
              "<IPython.core.display.Markdown object>"
            ]
          },
          "metadata": {},
          "output_type": "display_data"
        },
        {
          "data": {
            "text/markdown": "3. Depends on how important the issue is",
            "text/plain": [
              "<IPython.core.display.Markdown object>"
            ]
          },
          "metadata": {},
          "output_type": "display_data"
        },
        {
          "data": {
            "text/markdown": "#### Question 10: How do you approach deadlines?",
            "text/plain": [
              "<IPython.core.display.Markdown object>"
            ]
          },
          "metadata": {},
          "output_type": "display_data"
        },
        {
          "data": {
            "text/markdown": "1. I plan ahead and meet them comfortably",
            "text/plain": [
              "<IPython.core.display.Markdown object>"
            ]
          },
          "metadata": {},
          "output_type": "display_data"
        },
        {
          "data": {
            "text/markdown": "2. I often procrastinate and rush at the end",
            "text/plain": [
              "<IPython.core.display.Markdown object>"
            ]
          },
          "metadata": {},
          "output_type": "display_data"
        },
        {
          "data": {
            "text/markdown": "3. I sometimes need last-minute pressure to focus",
            "text/plain": [
              "<IPython.core.display.Markdown object>"
            ]
          },
          "metadata": {},
          "output_type": "display_data"
        },
        {
          "data": {
            "text/markdown": "#### Question 11: How often do you experience mood swings?",
            "text/plain": [
              "<IPython.core.display.Markdown object>"
            ]
          },
          "metadata": {},
          "output_type": "display_data"
        },
        {
          "data": {
            "text/markdown": "1. Rarely, my mood is generally stable",
            "text/plain": [
              "<IPython.core.display.Markdown object>"
            ]
          },
          "metadata": {},
          "output_type": "display_data"
        },
        {
          "data": {
            "text/markdown": "2. Frequently, my mood changes often",
            "text/plain": [
              "<IPython.core.display.Markdown object>"
            ]
          },
          "metadata": {},
          "output_type": "display_data"
        },
        {
          "data": {
            "text/markdown": "3. Occasionally, depending on circumstances",
            "text/plain": [
              "<IPython.core.display.Markdown object>"
            ]
          },
          "metadata": {},
          "output_type": "display_data"
        },
        {
          "data": {
            "text/markdown": "#### Question 12: How would you describe your sleep quality?",
            "text/plain": [
              "<IPython.core.display.Markdown object>"
            ]
          },
          "metadata": {},
          "output_type": "display_data"
        },
        {
          "data": {
            "text/markdown": "1. Generally good",
            "text/plain": [
              "<IPython.core.display.Markdown object>"
            ]
          },
          "metadata": {},
          "output_type": "display_data"
        },
        {
          "data": {
            "text/markdown": "2. Sometimes good, sometimes poor",
            "text/plain": [
              "<IPython.core.display.Markdown object>"
            ]
          },
          "metadata": {},
          "output_type": "display_data"
        },
        {
          "data": {
            "text/markdown": "3. Generally poor",
            "text/plain": [
              "<IPython.core.display.Markdown object>"
            ]
          },
          "metadata": {},
          "output_type": "display_data"
        },
        {
          "data": {
            "text/markdown": "#### Question 13: Overall, how satisfied are you with your life right now?",
            "text/plain": [
              "<IPython.core.display.Markdown object>"
            ]
          },
          "metadata": {},
          "output_type": "display_data"
        },
        {
          "data": {
            "text/markdown": "1. Very satisfied",
            "text/plain": [
              "<IPython.core.display.Markdown object>"
            ]
          },
          "metadata": {},
          "output_type": "display_data"
        },
        {
          "data": {
            "text/markdown": "2. Somewhat satisfied",
            "text/plain": [
              "<IPython.core.display.Markdown object>"
            ]
          },
          "metadata": {},
          "output_type": "display_data"
        },
        {
          "data": {
            "text/markdown": "3. Not very satisfied",
            "text/plain": [
              "<IPython.core.display.Markdown object>"
            ]
          },
          "metadata": {},
          "output_type": "display_data"
        },
        {
          "data": {
            "text/markdown": "#### Question 14: How often do you feel anxious or worried without a specific reason?",
            "text/plain": [
              "<IPython.core.display.Markdown object>"
            ]
          },
          "metadata": {},
          "output_type": "display_data"
        },
        {
          "data": {
            "text/markdown": "1. Rarely or never",
            "text/plain": [
              "<IPython.core.display.Markdown object>"
            ]
          },
          "metadata": {},
          "output_type": "display_data"
        },
        {
          "data": {
            "text/markdown": "2. Sometimes",
            "text/plain": [
              "<IPython.core.display.Markdown object>"
            ]
          },
          "metadata": {},
          "output_type": "display_data"
        },
        {
          "data": {
            "text/markdown": "3. Frequently",
            "text/plain": [
              "<IPython.core.display.Markdown object>"
            ]
          },
          "metadata": {},
          "output_type": "display_data"
        },
        {
          "data": {
            "text/markdown": "#### Question 15: How easily do you trust others?",
            "text/plain": [
              "<IPython.core.display.Markdown object>"
            ]
          },
          "metadata": {},
          "output_type": "display_data"
        },
        {
          "data": {
            "text/markdown": "1. I tend to trust people unless given reason not to",
            "text/plain": [
              "<IPython.core.display.Markdown object>"
            ]
          },
          "metadata": {},
          "output_type": "display_data"
        },
        {
          "data": {
            "text/markdown": "2. I'm cautious about trusting others",
            "text/plain": [
              "<IPython.core.display.Markdown object>"
            ]
          },
          "metadata": {},
          "output_type": "display_data"
        },
        {
          "data": {
            "text/markdown": "3. It takes time for me to trust someone",
            "text/plain": [
              "<IPython.core.display.Markdown object>"
            ]
          },
          "metadata": {},
          "output_type": "display_data"
        },
        {
          "data": {
            "text/markdown": "#### Question 16: How would you describe your general mood over the past month?",
            "text/plain": [
              "<IPython.core.display.Markdown object>"
            ]
          },
          "metadata": {},
          "output_type": "display_data"
        },
        {
          "data": {
            "text/markdown": "1. Mostly positive",
            "text/plain": [
              "<IPython.core.display.Markdown object>"
            ]
          },
          "metadata": {},
          "output_type": "display_data"
        },
        {
          "data": {
            "text/markdown": "2. A mix of positive and negative",
            "text/plain": [
              "<IPython.core.display.Markdown object>"
            ]
          },
          "metadata": {},
          "output_type": "display_data"
        },
        {
          "data": {
            "text/markdown": "3. Mostly negative",
            "text/plain": [
              "<IPython.core.display.Markdown object>"
            ]
          },
          "metadata": {},
          "output_type": "display_data"
        },
        {
          "data": {
            "text/markdown": "#### Question 17: How often do you experience feelings of worthlessness or guilt?",
            "text/plain": [
              "<IPython.core.display.Markdown object>"
            ]
          },
          "metadata": {},
          "output_type": "display_data"
        },
        {
          "data": {
            "text/markdown": "1. Rarely or never",
            "text/plain": [
              "<IPython.core.display.Markdown object>"
            ]
          },
          "metadata": {},
          "output_type": "display_data"
        },
        {
          "data": {
            "text/markdown": "2. Occasionally",
            "text/plain": [
              "<IPython.core.display.Markdown object>"
            ]
          },
          "metadata": {},
          "output_type": "display_data"
        },
        {
          "data": {
            "text/markdown": "3. Frequently",
            "text/plain": [
              "<IPython.core.display.Markdown object>"
            ]
          },
          "metadata": {},
          "output_type": "display_data"
        },
        {
          "data": {
            "text/markdown": "#### Question 18: How would you describe your self-confidence?",
            "text/plain": [
              "<IPython.core.display.Markdown object>"
            ]
          },
          "metadata": {},
          "output_type": "display_data"
        },
        {
          "data": {
            "text/markdown": "1. Generally high",
            "text/plain": [
              "<IPython.core.display.Markdown object>"
            ]
          },
          "metadata": {},
          "output_type": "display_data"
        },
        {
          "data": {
            "text/markdown": "2. It varies depending on the situation",
            "text/plain": [
              "<IPython.core.display.Markdown object>"
            ]
          },
          "metadata": {},
          "output_type": "display_data"
        },
        {
          "data": {
            "text/markdown": "3. Generally low",
            "text/plain": [
              "<IPython.core.display.Markdown object>"
            ]
          },
          "metadata": {},
          "output_type": "display_data"
        },
        {
          "data": {
            "text/markdown": "#### Question 19: How do you feel about trying new things?",
            "text/plain": [
              "<IPython.core.display.Markdown object>"
            ]
          },
          "metadata": {},
          "output_type": "display_data"
        },
        {
          "data": {
            "text/markdown": "1. I love exploring new ideas and experiences",
            "text/plain": [
              "<IPython.core.display.Markdown object>"
            ]
          },
          "metadata": {},
          "output_type": "display_data"
        },
        {
          "data": {
            "text/markdown": "2. I prefer familiar routines",
            "text/plain": [
              "<IPython.core.display.Markdown object>"
            ]
          },
          "metadata": {},
          "output_type": "display_data"
        },
        {
          "data": {
            "text/markdown": "3. I'm open to new things in moderation",
            "text/plain": [
              "<IPython.core.display.Markdown object>"
            ]
          },
          "metadata": {},
          "output_type": "display_data"
        },
        {
          "data": {
            "text/markdown": "#### Question 20: How do you typically recharge your energy?",
            "text/plain": [
              "<IPython.core.display.Markdown object>"
            ]
          },
          "metadata": {},
          "output_type": "display_data"
        },
        {
          "data": {
            "text/markdown": "1. By spending time alone",
            "text/plain": [
              "<IPython.core.display.Markdown object>"
            ]
          },
          "metadata": {},
          "output_type": "display_data"
        },
        {
          "data": {
            "text/markdown": "2. By socializing with others",
            "text/plain": [
              "<IPython.core.display.Markdown object>"
            ]
          },
          "metadata": {},
          "output_type": "display_data"
        },
        {
          "data": {
            "text/markdown": "3. It depends on my mood",
            "text/plain": [
              "<IPython.core.display.Markdown object>"
            ]
          },
          "metadata": {},
          "output_type": "display_data"
        },
        {
          "data": {
            "text/markdown": "#### Question 21: When faced with stress, you tend to:",
            "text/plain": [
              "<IPython.core.display.Markdown object>"
            ]
          },
          "metadata": {},
          "output_type": "display_data"
        },
        {
          "data": {
            "text/markdown": "1. Analyze the situation calmly",
            "text/plain": [
              "<IPython.core.display.Markdown object>"
            ]
          },
          "metadata": {},
          "output_type": "display_data"
        },
        {
          "data": {
            "text/markdown": "2. React emotionally at first",
            "text/plain": [
              "<IPython.core.display.Markdown object>"
            ]
          },
          "metadata": {},
          "output_type": "display_data"
        },
        {
          "data": {
            "text/markdown": "3. Seek support from others",
            "text/plain": [
              "<IPython.core.display.Markdown object>"
            ]
          },
          "metadata": {},
          "output_type": "display_data"
        },
        {
          "data": {
            "text/markdown": "#### Question 22: How satisfied are you with your social relationships?",
            "text/plain": [
              "<IPython.core.display.Markdown object>"
            ]
          },
          "metadata": {},
          "output_type": "display_data"
        },
        {
          "data": {
            "text/markdown": "1. Very satisfied",
            "text/plain": [
              "<IPython.core.display.Markdown object>"
            ]
          },
          "metadata": {},
          "output_type": "display_data"
        },
        {
          "data": {
            "text/markdown": "2. Somewhat satisfied",
            "text/plain": [
              "<IPython.core.display.Markdown object>"
            ]
          },
          "metadata": {},
          "output_type": "display_data"
        },
        {
          "data": {
            "text/markdown": "3. Not very satisfied",
            "text/plain": [
              "<IPython.core.display.Markdown object>"
            ]
          },
          "metadata": {},
          "output_type": "display_data"
        },
        {
          "data": {
            "text/markdown": "#### Question 23: How do you handle failure or setbacks?",
            "text/plain": [
              "<IPython.core.display.Markdown object>"
            ]
          },
          "metadata": {},
          "output_type": "display_data"
        },
        {
          "data": {
            "text/markdown": "1. Learn from them and move on",
            "text/plain": [
              "<IPython.core.display.Markdown object>"
            ]
          },
          "metadata": {},
          "output_type": "display_data"
        },
        {
          "data": {
            "text/markdown": "2. Dwell on them for a long time",
            "text/plain": [
              "<IPython.core.display.Markdown object>"
            ]
          },
          "metadata": {},
          "output_type": "display_data"
        },
        {
          "data": {
            "text/markdown": "3. Need some time before recovering",
            "text/plain": [
              "<IPython.core.display.Markdown object>"
            ]
          },
          "metadata": {},
          "output_type": "display_data"
        },
        {
          "data": {
            "text/markdown": "#### Question 24: When something upsetting happens, how long does it typically affect you?",
            "text/plain": [
              "<IPython.core.display.Markdown object>"
            ]
          },
          "metadata": {},
          "output_type": "display_data"
        },
        {
          "data": {
            "text/markdown": "1. I bounce back quickly",
            "text/plain": [
              "<IPython.core.display.Markdown object>"
            ]
          },
          "metadata": {},
          "output_type": "display_data"
        },
        {
          "data": {
            "text/markdown": "2. It stays with me for hours or days",
            "text/plain": [
              "<IPython.core.display.Markdown object>"
            ]
          },
          "metadata": {},
          "output_type": "display_data"
        },
        {
          "data": {
            "text/markdown": "3. It depends on the situation",
            "text/plain": [
              "<IPython.core.display.Markdown object>"
            ]
          },
          "metadata": {},
          "output_type": "display_data"
        },
        {
          "data": {
            "text/markdown": "#### Question 25: How often do you feel optimistic about your future?",
            "text/plain": [
              "<IPython.core.display.Markdown object>"
            ]
          },
          "metadata": {},
          "output_type": "display_data"
        },
        {
          "data": {
            "text/markdown": "1. Often",
            "text/plain": [
              "<IPython.core.display.Markdown object>"
            ]
          },
          "metadata": {},
          "output_type": "display_data"
        },
        {
          "data": {
            "text/markdown": "2. Sometimes",
            "text/plain": [
              "<IPython.core.display.Markdown object>"
            ]
          },
          "metadata": {},
          "output_type": "display_data"
        },
        {
          "data": {
            "text/markdown": "3. Rarely",
            "text/plain": [
              "<IPython.core.display.Markdown object>"
            ]
          },
          "metadata": {},
          "output_type": "display_data"
        },
        {
          "name": "stdout",
          "output_type": "stream",
          "text": [
            "Your choice (1-3): 3\n"
          ]
        },
        {
          "output_type": "display_data",
          "data": {
            "text/plain": [
              "<IPython.core.display.Markdown object>"
            ],
            "text/markdown": "## Quiz Results"
          },
          "metadata": {}
        },
        {
          "output_type": "display_data",
          "data": {
            "text/plain": [
              "<IPython.core.display.Markdown object>"
            ],
            "text/markdown": "**Age Group:** Young Adult"
          },
          "metadata": {}
        },
        {
          "output_type": "display_data",
          "data": {
            "text/plain": [
              "<IPython.core.display.Markdown object>"
            ],
            "text/markdown": "**Personality Classification:** Low Openness, Low Conscientiousness, Low Extraversion, Low Agreeableness, Low Neuroticism"
          },
          "metadata": {}
        },
        {
          "output_type": "display_data",
          "data": {
            "text/plain": [
              "<IPython.core.display.Markdown object>"
            ],
            "text/markdown": "### Personality Analysis\n\n**Classification:** Low Openness, Low Conscientiousness, Low Extraversion, Low Agreeableness, Low Neuroticism\n\n\n**Key Traits:**\n- Self_esteem: Low\n- Extraversion: Low\n- Introversion: Low\n- Stress_management: Low\n- Resilience: Low\n- Openness: Low\n- Conscientiousness: Low\n- Agreeableness: Low\n- Emotional_stability: Low\n- Sleep_quality: Low\n- Life_satisfaction: Low\n- Neuroticism: Low\n- Wellbeing: Low\n- Social_support: Low\n\n**Potential Strengths:**\n\n**Potential Challenges:**\n\n**Mental Health Considerations:**\nYour personality influences how you experience stress and seek support. "
          },
          "metadata": {}
        },
        {
          "output_type": "display_data",
          "data": {
            "text/plain": [
              "<IPython.core.display.Markdown object>"
            ],
            "text/markdown": "\nBased on your personality, you can get further help and ideas by exploring our personalized recommendations.\n\n■ [Click here] to consult our knowledge base and recommendation system."
          },
          "metadata": {}
        },
        {
          "output_type": "display_data",
          "data": {
            "text/plain": [
              "<IPython.core.display.Markdown object>"
            ],
            "text/markdown": "\n### System Notification"
          },
          "metadata": {}
        },
        {
          "output_type": "display_data",
          "data": {
            "text/plain": [
              "<IPython.core.display.Markdown object>"
            ],
            "text/markdown": "*(Simulating server integration - this would call the knowledge server in production)*\n\nPOST /knowledge_server/personality_profile\nInput: {\n  \"age_group\": \"young_adult\",\n  \"classification\": \"Low Openness, Low Conscientiousness, Low Extraversion, Low Agreeableness, Low Neuroticism\",\n  \"analysis\": \"### Personality Analysis\\n\\n**Classification:** Low Openness, Low Conscientiousness, Low Extraversion, Low Agreeableness, Low Neuroticism\\n\\n\\n**Key Traits:**\\n- Self_esteem: Low\\n- Extraversion: Low\\n- Introversion: Low\\n- Stress_management: Low\\n- Resilience: Low\\n- Openness: Low\\n- Conscientiousness: Low\\n- Agreeableness: Low\\n- Emotional_stability: Low\\n- Sleep_quality: Low\\n- Life_satisfaction: Low\\n- Neuroticism: Low\\n- Wellbeing: Low\\n- Social_support: Low\\n\\n**Potential Strengths:**\\n\\n**Potential Challenges:**\\n\\n**Mental Health Considerations:**\\nYour personality influences how you experience stress and seek support. \",\n  \"recommendation_message\": \"Based on your personality, you can get further help and ideas by exploring our personalized recommendations.\\n\\n\\u25a0 [Click here] to consult our knowledge base and recommendation system.\"\n}\nResponse: Personalized recommendations would be returned based on your profile"
          },
          "metadata": {}
        }
      ]
    }
  ]
}